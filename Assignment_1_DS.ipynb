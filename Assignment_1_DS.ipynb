{
  "nbformat": 4,
  "nbformat_minor": 0,
  "metadata": {
    "colab": {
      "name": "Assignment_1_DS.ipynb",
      "provenance": [],
      "collapsed_sections": [],
      "include_colab_link": true
    },
    "kernelspec": {
      "display_name": "Python 3",
      "language": "python",
      "name": "python3"
    },
    "language_info": {
      "codemirror_mode": {
        "name": "ipython",
        "version": 3
      },
      "file_extension": ".py",
      "mimetype": "text/x-python",
      "name": "python",
      "nbconvert_exporter": "python",
      "pygments_lexer": "ipython3",
      "version": "3.6.9"
    }
  },
  "cells": [
    {
      "cell_type": "markdown",
      "metadata": {
        "id": "view-in-github",
        "colab_type": "text"
      },
      "source": [
        "<a href=\"https://colab.research.google.com/github/chindimaga/SHALA2020/blob/master/Assignment_1_DS.ipynb\" target=\"_parent\"><img src=\"https://colab.research.google.com/assets/colab-badge.svg\" alt=\"Open In Colab\"/></a>"
      ]
    },
    {
      "cell_type": "markdown",
      "metadata": {
        "colab_type": "text",
        "id": "hmr2U-GChnlR"
      },
      "source": [
        "\n",
        "# **Assignment - 1 : Getting Started**\n",
        "\n",
        "---\n",
        "\n",
        "This assignment will get you familiarized with python libraries required for ***data science*** and ***machine learning***. You will have to complete the code snippets and run them. "
      ]
    },
    {
      "cell_type": "markdown",
      "metadata": {
        "colab_type": "text",
        "id": "211pD45xEO0u"
      },
      "source": [
        "## **Note :**   Use only the methods and attributes of the ```numpy``` library. **Do not** hard-code them. Avoid loops as much as possible."
      ]
    },
    {
      "cell_type": "markdown",
      "metadata": {
        "colab_type": "text",
        "id": "O7v9C4mun3SQ"
      },
      "source": [
        "---\n",
        "## Part - 1\n",
        " In this part, you will work with the library ```numpy```. \n",
        "\n",
        "\n"
      ]
    },
    {
      "cell_type": "markdown",
      "metadata": {
        "colab_type": "text",
        "id": "846yDaXQwiMD"
      },
      "source": [
        "Import ```numpy``` with an alias name ```np```. Initialize two arrays $a$, $b$ of size $3 \\times 5$ with random values and print them. "
      ]
    },
    {
      "cell_type": "code",
      "metadata": {
        "colab_type": "code",
        "id": "_MyeCO3_o3oq",
        "outputId": "ee3f6c42-72cd-4737-ee54-cae80db9df81",
        "colab": {
          "base_uri": "https://localhost:8080/",
          "height": 153
        }
      },
      "source": [
        "import numpy as np\n",
        "\n",
        "a = np.random.rand(3,5)\n",
        "b = np.random.rand(3,5)\n",
        "\"\"\"Create an array of the given shape and populate it with \n",
        "random samples from a uniform distribution over [0, 1).\"\"\"\n",
        "\n",
        "print('Array a:')\n",
        "print(a)\n",
        "print('Array b:')\n",
        "print(b)"
      ],
      "execution_count": 1,
      "outputs": [
        {
          "output_type": "stream",
          "text": [
            "Array a:\n",
            "[[0.98469527 0.35728047 0.19365918 0.00749425 0.06345776]\n",
            " [0.64481869 0.35530993 0.07138741 0.88769267 0.98562945]\n",
            " [0.91001207 0.31604353 0.88345825 0.20261869 0.62686725]]\n",
            "Array b:\n",
            "[[0.48891995 0.97231709 0.93964485 0.68578397 0.81214846]\n",
            " [0.86668073 0.98528154 0.23630365 0.30801552 0.05598831]\n",
            " [0.59118947 0.31635068 0.50400688 0.1636892  0.55248174]]\n"
          ],
          "name": "stdout"
        }
      ]
    },
    {
      "cell_type": "markdown",
      "metadata": {
        "colab_type": "text",
        "id": "p7jtpYT4wiO6"
      },
      "source": [
        "Initialize and print two arrays $c$ and $d$ having the following properties:\n",
        "*   $c$ is a row vector with all positive integer values less than 100\n",
        "* $d$ is a square matrix of size 3 having all entries as 0.0"
      ]
    },
    {
      "cell_type": "code",
      "metadata": {
        "colab_type": "code",
        "id": "a2lJdRf8x9f2",
        "outputId": "99982330-c2de-447c-96d8-ecc2db181dc1",
        "colab": {
          "base_uri": "https://localhost:8080/",
          "height": 187
        }
      },
      "source": [
        "c = np.arange(100)\n",
        "\n",
        "print('Row vector c:')\n",
        "print(c)\n",
        "\n",
        "\n",
        "d = np.zeros((3,3))\n",
        "\n",
        "print('Matrix d:')\n",
        "print(d)"
      ],
      "execution_count": 2,
      "outputs": [
        {
          "output_type": "stream",
          "text": [
            "Row vector c:\n",
            "[ 0  1  2  3  4  5  6  7  8  9 10 11 12 13 14 15 16 17 18 19 20 21 22 23\n",
            " 24 25 26 27 28 29 30 31 32 33 34 35 36 37 38 39 40 41 42 43 44 45 46 47\n",
            " 48 49 50 51 52 53 54 55 56 57 58 59 60 61 62 63 64 65 66 67 68 69 70 71\n",
            " 72 73 74 75 76 77 78 79 80 81 82 83 84 85 86 87 88 89 90 91 92 93 94 95\n",
            " 96 97 98 99]\n",
            "Matrix d:\n",
            "[[0. 0. 0.]\n",
            " [0. 0. 0.]\n",
            " [0. 0. 0.]]\n"
          ],
          "name": "stdout"
        }
      ]
    },
    {
      "cell_type": "markdown",
      "metadata": {
        "colab_type": "text",
        "id": "qqgtSsa88Zmh"
      },
      "source": [
        "We have $e$ as following : ```e = [[1,2,3],[4,5,6],[7,8,9]]```. Change $e$ as a numpy array and print it."
      ]
    },
    {
      "cell_type": "code",
      "metadata": {
        "colab_type": "code",
        "id": "Krhm4bVE7RET",
        "outputId": "3ef1ea16-68b0-4387-dca9-9f3238cf4e10",
        "colab": {
          "base_uri": "https://localhost:8080/",
          "height": 85
        }
      },
      "source": [
        "e = [[1,2,3],[4,5,6],[7,8,9]]\n",
        "numpy_e = np.array(e)\n",
        "print('e  as a numpy array:')\n",
        "print(numpy_e)"
      ],
      "execution_count": 3,
      "outputs": [
        {
          "output_type": "stream",
          "text": [
            "e  as a numpy array:\n",
            "[[1 2 3]\n",
            " [4 5 6]\n",
            " [7 8 9]]\n"
          ],
          "name": "stdout"
        }
      ]
    },
    {
      "cell_type": "markdown",
      "metadata": {
        "colab_type": "text",
        "id": "1qTikI0foam9"
      },
      "source": [
        "$f$ and $g$ are two square matrices of size 5 such that all the entries of $f$ are 1 and $g$ is an identity matrix. Initialize them and print them"
      ]
    },
    {
      "cell_type": "code",
      "metadata": {
        "colab_type": "code",
        "id": "DvaLckI49aBV",
        "colab": {
          "base_uri": "https://localhost:8080/",
          "height": 187
        },
        "outputId": "07e07050-11bb-47d3-bdda-34164d2e55e7"
      },
      "source": [
        "f = np.ones((5,5)) \n",
        "print('Matrix f:')\n",
        "print(f)\n",
        "\n",
        "g = np.identity(3)\n",
        "print('Matrix g:')\n",
        "print(g)"
      ],
      "execution_count": 4,
      "outputs": [
        {
          "output_type": "stream",
          "text": [
            "Matrix f:\n",
            "[[1. 1. 1. 1. 1.]\n",
            " [1. 1. 1. 1. 1.]\n",
            " [1. 1. 1. 1. 1.]\n",
            " [1. 1. 1. 1. 1.]\n",
            " [1. 1. 1. 1. 1.]]\n",
            "Matrix g:\n",
            "[[1. 0. 0.]\n",
            " [0. 1. 0.]\n",
            " [0. 0. 1.]]\n"
          ],
          "name": "stdout"
        }
      ]
    },
    {
      "cell_type": "markdown",
      "metadata": {
        "colab_type": "text",
        "id": "gcBZAZibAKcg"
      },
      "source": [
        "Reshape $c$ into a $10 \\times 10$ matrix and name it $h$. Now flatten $h$, call it $c^\\prime$ and print **YES** when the shapes of $c$ and $c^\\prime$ are same. Otherwise print **NO**."
      ]
    },
    {
      "cell_type": "code",
      "metadata": {
        "colab_type": "code",
        "id": "I71vtO9bA9Pi",
        "colab": {
          "base_uri": "https://localhost:8080/",
          "height": 34
        },
        "outputId": "6c505903-c500-4c5f-e660-0b2798bfe2dd"
      },
      "source": [
        "h = np.reshape(c, (10,10))\n",
        "c_prime = np.reshape(h,(-1))\n",
        "\n",
        "if (c.shape) == (c_prime.shape):\n",
        "    print(\"YES\")\n",
        "else:\n",
        "    print(\"NO\")  "
      ],
      "execution_count": 5,
      "outputs": [
        {
          "output_type": "stream",
          "text": [
            "YES\n"
          ],
          "name": "stdout"
        }
      ]
    },
    {
      "cell_type": "markdown",
      "metadata": {
        "colab_type": "text",
        "id": "8FrecDPiA-Bv"
      },
      "source": [
        "Let $A$ denote a randomly initialized three dimensional matrix of shape (2,10,5). Transpose $A$, call it $A^\\prime$, such that its shape is (5,2,10) and print it."
      ]
    },
    {
      "cell_type": "code",
      "metadata": {
        "colab_type": "code",
        "id": "VbOKqSm6Bkaq",
        "colab": {
          "base_uri": "https://localhost:8080/",
          "height": 51
        },
        "outputId": "8d85b2ba-585b-4f44-d780-8c9c8fe054d8"
      },
      "source": [
        "A = np.random.rand(2,10,5)\n",
        "A_prime = A.transpose(2,0,1)\n",
        "print(\"Shape of A_prime is:\")\n",
        "print(A_prime.shape)"
      ],
      "execution_count": 6,
      "outputs": [
        {
          "output_type": "stream",
          "text": [
            "Shape of A_prime is:\n",
            "(5, 2, 10)\n"
          ],
          "name": "stdout"
        }
      ]
    },
    {
      "cell_type": "markdown",
      "metadata": {
        "colab_type": "text",
        "id": "xR2zd-nkCani"
      },
      "source": [
        "You have a matrix $X$ of size (10,5) filled with random values. Print the following :\n",
        "* Minimum value and index where it occured, for each column\n",
        "* Maximum value and the index where it occured, for each column\n",
        "* Minimum value and index where it occured, for each row\n",
        "* Maximum value and index where it occured, for each row\n",
        "* Minimum value and index where it occured, for the entire matrix\n",
        "* Maximum value and index where it occured, for the entire matrix"
      ]
    },
    {
      "cell_type": "code",
      "metadata": {
        "colab_type": "code",
        "id": "FR2Wd4fWD_Og",
        "colab": {
          "base_uri": "https://localhost:8080/",
          "height": 340
        },
        "outputId": "b5ae03f7-38cf-4c12-dea0-4661dea3643b"
      },
      "source": [
        "np.random.seed(0)\n",
        "X = np.random.rand(10,5)\n",
        "\n",
        "Col_min = np.amin(X, axis=0)\n",
        "Col_min_index = np.argmin(X, axis=0)\n",
        "print(\"Min value for each column:\", Col_min)\n",
        "print(\"and corresponding indices for each column:\",Col_min_index,\"\\n\")\n",
        "\n",
        "Col_max = np.amax(X, axis=0)\n",
        "Col_max_index = np.argmax(X, axis=0)\n",
        "print(\"Max value for each column:\", Col_max)\n",
        "print(\"and corresponding indices for each column:\",Col_max_index,\"\\n\")\n",
        "\n",
        "Row_min = np.amin(X, axis=1)\n",
        "Row_min_index = np.argmin(X, axis=1)\n",
        "print(\"Min value for each row:\", Row_min)\n",
        "print(\"and corresponding indices for each column:\",Row_min_index,\"\\n\")\n",
        "\n",
        "Row_max = np.amax(X, axis=1)\n",
        "Row_max_index = np.argmax(X, axis=1)\n",
        "print(\"Max value for each row:\", Row_max)\n",
        "print(\"and corresponding indices for each column:\",Row_max_index,\"\\n\")\n",
        "\n",
        "X_min = np.amin(X)\n",
        "X_min_index = np.where(X == X_min)\n",
        "print(\"Minimum value:\", X_min)\n",
        "print(\"and corresponding index:\",list(zip(X_min_index[0], X_min_index[1])),\"\\n\")\n",
        "\n",
        "X_max = np.amax(X)\n",
        "X_max_index = np.where(X == X_max)\n",
        "print(\"Maximum value:\", X_max)\n",
        "print(\"and corresponding index:\",list(zip(X_max_index[0], X_max_index[1])))"
      ],
      "execution_count": 7,
      "outputs": [
        {
          "output_type": "stream",
          "text": [
            "Min value for each column: [0.0871293  0.0202184  0.1289263  0.06022547 0.0187898 ]\n",
            "and corresponding indices for each column: [3 3 9 8 6] \n",
            "\n",
            "Max value for each column: [0.97861834 0.79915856 0.94466892 0.96366276 0.87001215]\n",
            "and corresponding indices for each column: [4 4 5 1 3] \n",
            "\n",
            "Min value for each row: [0.4236548  0.38344152 0.07103606 0.0202184  0.11827443 0.14335329\n",
            " 0.0187898  0.61209572 0.06022547 0.1289263 ]\n",
            "and corresponding indices for each column: [4 4 4 1 4 1 4 1 3 2] \n",
            "\n",
            "Max value for each row: [0.71518937 0.96366276 0.92559664 0.87001215 0.97861834 0.94466892\n",
            " 0.77423369 0.94374808 0.6976312  0.67063787]\n",
            "and corresponding indices for each column: [1 3 3 4 0 2 1 3 2 0] \n",
            "\n",
            "Minimum value: 0.018789800436355142\n",
            "and corresponding index: [(6, 4)] \n",
            "\n",
            "Maximum value: 0.978618342232764\n",
            "and corresponding index: [(4, 0)]\n"
          ],
          "name": "stdout"
        }
      ]
    },
    {
      "cell_type": "markdown",
      "metadata": {
        "colab_type": "text",
        "id": "YpjW2ypkEGtS"
      },
      "source": [
        "Find and print the following for the matrix X: \n",
        "* Mean of each row and column\n",
        "* Standard deviation of each row and column\n",
        "* Mean of the entire matrix\n",
        "* Standard deviation of entire matrix"
      ]
    },
    {
      "cell_type": "code",
      "metadata": {
        "colab_type": "code",
        "id": "gMdm2pw0GWjf",
        "colab": {
          "base_uri": "https://localhost:8080/",
          "height": 170
        },
        "outputId": "60b29e72-0a99-4d2d-d152-fc15637aa07b"
      },
      "source": [
        "mean_X_row = np.mean(X, axis=1)\n",
        "mean_X_col = np.mean(X, axis=0)\n",
        "mean_X = np.mean(X)\n",
        "\n",
        "print(\"Mean of each row:\", mean_X_row)\n",
        "print(\"Mean of each column:\", mean_X_col)\n",
        "print(\"Mean of the entire matrix:\", mean_X,\"\\n\")\n",
        "\n",
        "std_X_row = np.std(X, axis=1)\n",
        "std_X_col = np.std(X, axis=0)\n",
        "std_X = np.std(X)\n",
        "\n",
        "print(\"Standard deviation of each row:\", std_X_row)\n",
        "print(\"Standard deviation of each column:\", std_X_col)\n",
        "print(\"Standard deviation of the entire matrix:\", std_X)"
      ],
      "execution_count": 8,
      "outputs": [
        {
          "output_type": "stream",
          "text": [
            "Mean of each row: [0.56706085 0.66447172 0.57705944 0.51762729 0.62761197 0.5328907\n",
            " 0.41643268 0.69444672 0.44423265 0.33781717]\n",
            "Mean of each column: [0.56044382 0.46781457 0.62009909 0.64025127 0.40121685]\n",
            "Mean of the entire matrix: 0.5379651182755409 \n",
            "\n",
            "Standard deviation of each row: [0.09445299 0.23322986 0.29189733 0.38052993 0.30431633 0.26338419\n",
            " 0.25841437 0.12727959 0.23169975 0.18537332]\n",
            "Standard deviation of each column: [0.24687647 0.25752158 0.22948615 0.28054144 0.26584905]\n",
            "Standard deviation of the entire matrix: 0.27226582292177587\n"
          ],
          "name": "stdout"
        }
      ]
    },
    {
      "cell_type": "markdown",
      "metadata": {
        "colab_type": "text",
        "id": "7dw7W8HOGXKA"
      },
      "source": [
        "Let $Y$ denote a square matrix of size 10 with random values. Print the following:\n",
        "* Determinant\n",
        "* Rank of the matrix\n",
        "* Diagonal Elements\n",
        "* Trace\n",
        "* Eigen values\n",
        "* Matrices obtained after Singular Value Decomposition\n",
        "* Inverse if exists, otherwise Pseudo-Inverse\n",
        "* Multiplication $Y$ with $X$\n",
        "* Element-wise multiplication of $Y$ and its inverse(or pseudo-inverse)"
      ]
    },
    {
      "cell_type": "code",
      "metadata": {
        "colab_type": "code",
        "id": "Tswbn9hgL7yi",
        "colab": {
          "base_uri": "https://localhost:8080/",
          "height": 1000
        },
        "outputId": "0c00ca4a-6de9-4e2b-8991-9c068709903e"
      },
      "source": [
        "np.random.seed(3)\n",
        "Y = np.random.rand(10,10)\n",
        "\n",
        "Det_Y = np.linalg.det(Y)\n",
        "Rank_Y = np.linalg.matrix_rank(Y)\n",
        "Diag_Y = np.diag(Y)\n",
        "Trace_Y = np.trace(Y)\n",
        "Eig_Y = np.linalg.eig(Y)\n",
        "u, s, vh = np.linalg.svd(X, full_matrices=True)\n",
        "Inverse_Y = np.linalg.pinv(Y)\n",
        "Mul_Y_X = np.matmul(Y, X)\n",
        "Elemul_Y_Yinv = np.multiply(Y,Inverse_Y)\n",
        "\n",
        "print(\"Determinant:\",Det_Y)\n",
        "print(\"Rank of the matrix:\",Rank_Y)\n",
        "print(\"Diagonal Elements:\", Diag_Y)\n",
        "print(\"Trace:\", Trace_Y)\n",
        "print(\"Eigen values:\", Eig_Y)\n",
        "print(\"Matrices obtained after Singular Value Decomposition:\",u ,s, vh)\n",
        "print(\"Inverse if exists, otherwise Pseudo-Inverse:\",Inverse_Y)\n",
        "print(\"Multiplication Y with X:\", Mul_Y_X)\n",
        "print(\"Element-wise multiplication of  𝑌  and its inverse(or pseudo-inverse):\", Elemul_Y_Yinv)"
      ],
      "execution_count": 9,
      "outputs": [
        {
          "output_type": "stream",
          "text": [
            "Determinant: -0.012807808169095483\n",
            "Rank of the matrix: 10\n",
            "Diagonal Elements: [0.5507979  0.45683322 0.44045372 0.84575087 0.4576864  0.36217621\n",
            " 0.06152893 0.19897603 0.92672568 0.19638058]\n",
            "Trace: 4.497309545724899\n",
            "Eigen values: (array([ 4.797525  +0.j        ,  0.72411408+0.52238181j,\n",
            "        0.72411408-0.52238181j, -0.48250062+0.55413671j,\n",
            "       -0.48250062-0.55413671j, -0.6909002 +0.j        ,\n",
            "       -0.25905659+0.32357377j, -0.25905659-0.32357377j,\n",
            "        0.2127855 +0.08352477j,  0.2127855 -0.08352477j]), array([[ 0.29593906+0.j        ,  0.14213977+0.19798456j,\n",
            "         0.14213977-0.19798456j, -0.37236549+0.00325385j,\n",
            "        -0.37236549-0.00325385j, -0.1096481 +0.j        ,\n",
            "        -0.0132423 +0.12273111j, -0.0132423 -0.12273111j,\n",
            "        -0.56228934-0.10973258j, -0.56228934+0.10973258j],\n",
            "       [ 0.25059285+0.j        ,  0.01404552+0.1967944j ,\n",
            "         0.01404552-0.1967944j , -0.16781094-0.17307308j,\n",
            "        -0.16781094+0.17307308j, -0.29711444+0.j        ,\n",
            "        -0.04108937-0.4113554j , -0.04108937+0.4113554j ,\n",
            "         0.61892544+0.j        ,  0.61892544-0.j        ],\n",
            "       [ 0.31416894+0.j        , -0.24186998+0.15655466j,\n",
            "        -0.24186998-0.15655466j, -0.16993115+0.15284371j,\n",
            "        -0.16993115-0.15284371j,  0.36362726+0.j        ,\n",
            "        -0.10206063+0.15541211j, -0.10206063-0.15541211j,\n",
            "         0.16701388+0.18450241j,  0.16701388-0.18450241j],\n",
            "       [ 0.36027404+0.j        ,  0.52448941+0.j        ,\n",
            "         0.52448941-0.j        ,  0.48969059+0.j        ,\n",
            "         0.48969059-0.j        ,  0.17074825+0.j        ,\n",
            "         0.14078898+0.01851681j,  0.14078898-0.01851681j,\n",
            "        -0.13278372+0.03975259j, -0.13278372-0.03975259j],\n",
            "       [ 0.27990836+0.j        , -0.13624801+0.01805996j,\n",
            "        -0.13624801-0.01805996j, -0.0731246 -0.10412128j,\n",
            "        -0.0731246 +0.10412128j,  0.13537705+0.j        ,\n",
            "        -0.29263074+0.368267j  , -0.29263074-0.368267j  ,\n",
            "        -0.07942445-0.1381196j , -0.07942445+0.1381196j ],\n",
            "       [ 0.30697292+0.j        , -0.2288709 -0.09164898j,\n",
            "        -0.2288709 +0.09164898j,  0.34166486-0.10037728j,\n",
            "         0.34166486+0.10037728j,  0.38961338+0.j        ,\n",
            "         0.1575938 -0.27237341j,  0.1575938 +0.27237341j,\n",
            "        -0.05056956+0.01833742j, -0.05056956-0.01833742j],\n",
            "       [ 0.28526996+0.j        , -0.07276121-0.22120787j,\n",
            "        -0.07276121+0.22120787j, -0.09920762+0.30369397j,\n",
            "        -0.09920762-0.30369397j, -0.38942645+0.j        ,\n",
            "        -0.35795075-0.21303717j, -0.35795075+0.21303717j,\n",
            "         0.25824685-0.05397791j,  0.25824685+0.05397791j],\n",
            "       [ 0.23358056+0.j        ,  0.33195752+0.22875065j,\n",
            "         0.33195752-0.22875065j,  0.22899202+0.29805206j,\n",
            "         0.22899202-0.29805206j, -0.15526644+0.j        ,\n",
            "         0.47450761+0.j        ,  0.47450761-0.j        ,\n",
            "         0.01343252-0.05360821j,  0.01343252+0.05360821j],\n",
            "       [ 0.39548419+0.j        , -0.14569343-0.47441452j,\n",
            "        -0.14569343+0.47441452j, -0.29937425-0.1334132j ,\n",
            "        -0.29937425+0.1334132j ,  0.26931546+0.j        ,\n",
            "         0.07126882+0.08476271j,  0.07126882-0.08476271j,\n",
            "        -0.02419704-0.00279054j, -0.02419704+0.00279054j],\n",
            "       [ 0.3952166 +0.j        , -0.02644966-0.01254236j,\n",
            "        -0.02644966+0.01254236j,  0.09200666-0.09461051j,\n",
            "         0.09200666+0.09461051j, -0.5656002 +0.j        ,\n",
            "         0.04736886+0.16022229j,  0.04736886-0.16022229j,\n",
            "        -0.31202472+0.09318458j, -0.31202472-0.09318458j]]))\n",
            "Matrices obtained after Singular Value Decomposition: [[-0.31808548  0.07010396 -0.32968818 -0.20815326  0.03691277 -0.02946223\n",
            "  -0.25638887 -0.46442258 -0.58817451 -0.33508442]\n",
            " [-0.39389315 -0.05336169  0.31509607 -0.00527192 -0.21680262 -0.75122741\n",
            "   0.31358241  0.10104013 -0.09260469 -0.11925904]\n",
            " [-0.34811653  0.3079775   0.34400872  0.11394361 -0.10649223  0.32986776\n",
            "   0.05509008 -0.32520012  0.46238299 -0.45814648]\n",
            " [-0.29454003 -0.66054805  0.30903705 -0.16418078  0.24752302  0.04648673\n",
            "  -0.2394105  -0.32836927  0.16263075  0.31534429]\n",
            " [-0.36601696  0.4769409  -0.08382718  0.15530076  0.04631442 -0.20468167\n",
            "  -0.58210152  0.13210523  0.16860938  0.42267119]\n",
            " [-0.3135048  -0.23949071  0.04253854  0.38383416 -0.59753613  0.40323796\n",
            "  -0.02800053  0.22059419 -0.32276126  0.14815472]\n",
            " [-0.2430838   0.27000639 -0.05134591 -0.64772875 -0.15503673  0.23960138\n",
            "   0.41862828 -0.02566453 -0.00955963  0.43401955]\n",
            " [-0.3932126  -0.06265564  0.01596145 -0.10592092  0.53700403  0.22321976\n",
            "   0.04292737  0.63470004 -0.106922   -0.27507182]\n",
            " [-0.23430626 -0.30265949 -0.72749455 -0.02440637 -0.18385854 -0.10738062\n",
            "   0.07998534  0.05306326  0.50093235 -0.13480608]\n",
            " [-0.18674014  0.08833869 -0.1928685   0.56026022  0.41667457  0.02353036\n",
            "   0.50245622 -0.29679785 -0.10083375  0.28520971]] [3.94519738 1.21138347 0.69705256 0.63036923 0.51134867] [[-0.457698   -0.37968881 -0.50493055 -0.54138922 -0.31351523]\n",
            " [ 0.4019739   0.47891457 -0.41420274  0.09006533 -0.65527258]\n",
            " [-0.1829935  -0.51517818 -0.0135855   0.74727999 -0.37748228]\n",
            " [ 0.7710481  -0.59365513 -0.11656918 -0.17794927  0.08834084]\n",
            " [-0.03045884  0.09296378 -0.74813655  0.32968565  0.56747606]]\n",
            "Inverse if exists, otherwise Pseudo-Inverse: [[ 2.31470983 -1.92264991  0.7642126   0.78096977 -2.74248585  1.20175092\n",
            "   0.38693174 -1.37664514 -0.96484143  0.83123246]\n",
            " [-2.24504111  1.25605742 -0.91466223 -0.39587642  4.71823627 -1.32162185\n",
            "   0.52594984  2.39368168  0.33051878 -2.33540101]\n",
            " [-1.41290916  0.66149939  0.94968095 -0.18869248 -0.50069581 -0.55664939\n",
            "  -0.55275157  0.57384943 -0.04209635  1.11025544]\n",
            " [ 0.88051129  0.37055438  0.15632501  1.25248223 -1.81219563 -0.7249179\n",
            "  -0.19613524 -1.81766381  0.56943994  0.52226388]\n",
            " [ 0.39743656 -0.28842728 -1.09880632 -1.57965965  0.36480771  0.90235521\n",
            "  -0.47743451  2.09911148  0.53638288 -0.04562024]\n",
            " [ 0.36068175  0.22958502  0.33426258  0.10367281 -0.06700744 -0.37158555\n",
            "   0.22972702 -1.26286862 -0.45133033  0.75430018]\n",
            " [-2.01045364  0.19347423 -1.01393804 -0.74303568  3.56449935 -0.31892146\n",
            "  -0.67116163  2.01265699  0.72873355 -0.69454601]\n",
            " [ 1.18043988  0.86047396 -0.88991494  1.30425635 -0.14247318  0.69661973\n",
            "   0.5413572  -1.69774697 -0.60797727 -1.00698216]\n",
            " [-0.1679456  -0.63197036 -0.0540802  -0.73587818 -0.46423184  0.67805628\n",
            "   0.88551393  0.37662528 -0.03416891  0.42341327]\n",
            " [ 1.3938872  -0.74982353  1.96636643  1.00676681 -3.21953806  0.44078124\n",
            "  -0.40298654 -1.90114336 -0.04414834  0.55576763]]\n",
            "Multiplication Y with X: [[2.95726101 2.04939653 3.09073485 3.22311637 1.78554985]\n",
            " [2.61266989 1.75663954 2.48635951 2.79783984 1.50654432]\n",
            " [2.98361778 2.02894044 2.82637865 2.88685728 1.69799548]\n",
            " [2.98565892 2.85485651 3.58995669 4.0073463  2.2697569 ]\n",
            " [2.49815821 1.97791033 2.77809758 2.71690515 1.59098767]\n",
            " [2.72146909 2.39905911 2.58780909 2.78212857 1.71792628]\n",
            " [2.22935358 1.74438251 2.94718357 2.48955906 2.05838199]\n",
            " [2.30476788 1.92350098 2.41698824 2.81379687 1.38016019]\n",
            " [2.91925254 2.36604123 3.53647969 3.30424184 2.52990887]\n",
            " [3.39559098 2.84629279 4.05845051 4.01068273 2.35816262]]\n",
            "Element-wise multiplication of  𝑌  and its inverse(or pseudo-inverse): [[ 1.27493732 -1.36152035  0.22231307  0.39894092 -2.44889439  1.07712104\n",
            "   0.04859294 -0.2852999  -0.04965769  0.36641545]\n",
            " [-0.06707332  0.57380876 -0.59374754 -0.11024655  3.19073041 -0.78089721\n",
            "   0.01261327  1.33771879  0.0856878  -0.96942775]\n",
            " [-0.40059519  0.45851031  0.4182905  -0.02959976 -0.27270348 -0.43436174\n",
            "  -0.16934292  0.12737041 -0.01633217  1.03962504]\n",
            " [ 0.85937499  0.24915472  0.14113555  1.05928794 -0.68499915 -0.06684976\n",
            "  -0.12815691 -1.01396696  0.20588942  0.11753784]\n",
            " [ 0.16156588 -0.13525516 -0.29583776 -0.46093327  0.16696753  0.77650726\n",
            "  -0.27989737  0.59507263  0.14910237 -0.02073997]\n",
            " [ 0.07408776  0.04623354  0.17182269  0.00904331 -0.03240383 -0.13457945\n",
            "   0.16257474 -0.94304237 -0.3119112   0.51984891]\n",
            " [-0.75110573  0.12926687 -0.34458549 -0.42560628  1.1613394  -0.14196631\n",
            "  -0.04129586  0.48842239  0.70803941 -0.16015134]\n",
            " [ 0.81624763  0.5597184  -0.64424426  0.61963734 -0.08500859  0.04665222\n",
            "   0.03928204 -0.33781095 -0.09232803 -0.10080329]\n",
            " [-0.02171434 -0.34965513 -0.01015706 -0.70063053 -0.31642589  0.36684179\n",
            "   0.62621827  0.09938639 -0.03166521  0.35532547]\n",
            " [ 1.01240745 -0.36009522  1.65588343  0.74979192 -2.12594439  0.40286315\n",
            "  -0.25535869 -0.69570551 -0.02440717  0.10914197]]\n"
          ],
          "name": "stdout"
        }
      ]
    },
    {
      "cell_type": "markdown",
      "metadata": {
        "colab_type": "text",
        "id": "Qne3RnfOL6-4"
      },
      "source": [
        "## End of Part - 1\n",
        " --- --- ---"
      ]
    },
    {
      "cell_type": "markdown",
      "metadata": {
        "colab_type": "text",
        "id": "LA-m4UYkMPTe"
      },
      "source": [
        "## Part - 2\n",
        "---\n",
        "In this part, you will be working with the library ```pandas```. Import this library with an alias name ```pd```."
      ]
    },
    {
      "cell_type": "code",
      "metadata": {
        "colab_type": "code",
        "id": "i8z7TpnZSIms",
        "colab": {}
      },
      "source": [
        "# Initial imports\n",
        "import numpy as np\n",
        "import matplotlib.pyplot as plt\n",
        "import pandas as pd\n"
      ],
      "execution_count": 0,
      "outputs": []
    },
    {
      "cell_type": "markdown",
      "metadata": {
        "colab_type": "text",
        "id": "2v-HkHnyuQ3X"
      },
      "source": [
        "Download dataset from: http://biostat.mc.vanderbilt.edu/wiki/pub/Main/DataSets/titanic3.csv\n",
        "Read the data and display the first 5 rows"
      ]
    },
    {
      "cell_type": "code",
      "metadata": {
        "colab_type": "code",
        "id": "LinX5ywNTUIm",
        "colab": {}
      },
      "source": [
        "#Download dataset from: http://biostat.mc.vanderbilt.edu/wiki/pub/Main/DataSets/titanic3.csv\n",
        "\n",
        "file_url = \"http://biostat.mc.vanderbilt.edu/wiki/pub/Main/DataSets/titanic3.csv\"\n",
        "dataset = pd.read_csv(file_url)"
      ],
      "execution_count": 0,
      "outputs": []
    },
    {
      "cell_type": "markdown",
      "metadata": {
        "colab_type": "text",
        "id": "vTk1-mF5WYFN"
      },
      "source": [
        "### Preprocessing of the Dataset"
      ]
    },
    {
      "cell_type": "markdown",
      "metadata": {
        "colab_type": "text",
        "id": "kx9UrI9WWt17"
      },
      "source": [
        "\n",
        "\n",
        "---\n",
        "\n",
        "\n",
        "**1. Convert the categorical values of columns 'sex', 'embarked', 'pclass' into dummy values and add them into titanic_data_new DataFrame**\n",
        "\n",
        "\n",
        "\n",
        "\n",
        "---\n",
        "\n"
      ]
    },
    {
      "cell_type": "code",
      "metadata": {
        "colab_type": "code",
        "id": "AwDh9njbZ0QU",
        "colab": {
          "base_uri": "https://localhost:8080/",
          "height": 527
        },
        "outputId": "780e4208-c0a0-411e-c9df-cccadbaf6265"
      },
      "source": [
        "\"\"\"Creating dummies\"\"\"\n",
        "# print(dataset['sex'].unique())\n",
        "sex_dummy = pd.get_dummies(dataset['sex'], prefix = 'sex')\n",
        "# print(dataset['embarked'].unique())\n",
        "embarked_dummy = pd.get_dummies(dataset['embarked'], prefix = 'embarked',dummy_na=True)\n",
        "# print(dataset['pclass'].unique())\n",
        "pclass_dummy = pd.get_dummies(dataset['pclass'], prefix = 'pclass')\n",
        "\n",
        "dataset = pd.concat([dataset,sex_dummy, embarked_dummy, pclass_dummy], axis=1)\n",
        "dataset.info()"
      ],
      "execution_count": 12,
      "outputs": [
        {
          "output_type": "stream",
          "text": [
            "<class 'pandas.core.frame.DataFrame'>\n",
            "RangeIndex: 1309 entries, 0 to 1308\n",
            "Data columns (total 23 columns):\n",
            " #   Column        Non-Null Count  Dtype  \n",
            "---  ------        --------------  -----  \n",
            " 0   pclass        1309 non-null   int64  \n",
            " 1   survived      1309 non-null   int64  \n",
            " 2   name          1309 non-null   object \n",
            " 3   sex           1309 non-null   object \n",
            " 4   age           1046 non-null   float64\n",
            " 5   sibsp         1309 non-null   int64  \n",
            " 6   parch         1309 non-null   int64  \n",
            " 7   ticket        1309 non-null   object \n",
            " 8   fare          1308 non-null   float64\n",
            " 9   cabin         295 non-null    object \n",
            " 10  embarked      1307 non-null   object \n",
            " 11  boat          486 non-null    object \n",
            " 12  body          121 non-null    float64\n",
            " 13  home.dest     745 non-null    object \n",
            " 14  sex_female    1309 non-null   uint8  \n",
            " 15  sex_male      1309 non-null   uint8  \n",
            " 16  embarked_C    1309 non-null   uint8  \n",
            " 17  embarked_Q    1309 non-null   uint8  \n",
            " 18  embarked_S    1309 non-null   uint8  \n",
            " 19  embarked_nan  1309 non-null   uint8  \n",
            " 20  pclass_1      1309 non-null   uint8  \n",
            " 21  pclass_2      1309 non-null   uint8  \n",
            " 22  pclass_3      1309 non-null   uint8  \n",
            "dtypes: float64(3), int64(4), object(7), uint8(9)\n",
            "memory usage: 154.8+ KB\n"
          ],
          "name": "stdout"
        }
      ]
    },
    {
      "cell_type": "markdown",
      "metadata": {
        "colab_type": "text",
        "id": "Z9bxOfzDbY-n"
      },
      "source": [
        "\n",
        "\n",
        "---\n",
        "\n",
        "\n",
        "**2. Fill the missing data in Age and Fare columns with the mean value of the respected column then add these columns to titanic_data_new**\n",
        "\n",
        "\n",
        "---\n",
        "\n"
      ]
    },
    {
      "cell_type": "code",
      "metadata": {
        "colab_type": "code",
        "id": "DNx7Pr0ehhAs",
        "colab": {}
      },
      "source": [
        "dataset['age'] = dataset['age'].fillna(dataset['age'].mean())\n",
        "# print(dataset['age'].isnull().values.any())\n",
        "\n",
        "dataset['fare'] = dataset['fare'].fillna(dataset['fare'].mean())\n",
        "# print(dataset['fare'].isnull().values.any())"
      ],
      "execution_count": 0,
      "outputs": []
    },
    {
      "cell_type": "markdown",
      "metadata": {
        "colab_type": "text",
        "id": "SlRzKfhxkd1M"
      },
      "source": [
        "###Normalization\n",
        "\n",
        "\n",
        "---\n",
        "\n",
        "\n",
        "\n",
        "1. Normalize the columns which have numerical data\n",
        "\n",
        "\n",
        "\n",
        "---\n",
        "\n"
      ]
    },
    {
      "cell_type": "code",
      "metadata": {
        "colab_type": "code",
        "id": "Y3hpu92TlM38",
        "colab": {}
      },
      "source": [
        "\"\"\"I have normalised only these two columns because in some \n",
        "other columns with numerical value, still there are nan values.\n",
        "In actual practice we will have to deal with nans in all the columns \n",
        "so that we can normalise all the columns with numerical values\"\"\" \n",
        "def normalize(data):\n",
        "    age_mean = data.mean()\n",
        "    age_std = data.std()\n",
        "    return (data - age_mean)/age_std\n",
        "age_normalised = normalize(dataset['age'])\n",
        "fare_normalised = normalize(dataset['fare'])"
      ],
      "execution_count": 0,
      "outputs": []
    },
    {
      "cell_type": "markdown",
      "metadata": {
        "colab_type": "text",
        "id": "wB9-5x83mFAO"
      },
      "source": [
        "\n",
        "\n",
        "---\n",
        "2. Drop the original age, fare columns\n",
        "3. Append the normalized columns to the titanic_data_new DataFrame.\n",
        "\n",
        "\n",
        "\n",
        "---\n",
        "\n"
      ]
    },
    {
      "cell_type": "code",
      "metadata": {
        "colab_type": "code",
        "id": "Kb00kM0onQJy",
        "colab": {}
      },
      "source": [
        "dataset = dataset.drop(['age','fare'], axis=1)\n",
        "dataset = pd.concat([dataset,age_normalised, fare_normalised], axis=1)"
      ],
      "execution_count": 0,
      "outputs": []
    },
    {
      "cell_type": "markdown",
      "metadata": {
        "colab_type": "text",
        "id": "uLxN3PozntKe"
      },
      "source": [
        "###Plotting\n",
        "1. plot the age against the ID(continuous)\n",
        "2. plot the fare against the ID(scatter)"
      ]
    },
    {
      "cell_type": "code",
      "metadata": {
        "colab_type": "code",
        "id": "LdSfNEKYn_RO",
        "colab": {
          "base_uri": "https://localhost:8080/",
          "height": 266
        },
        "outputId": "b0fdeacd-650f-4228-df9a-b5e480b55af2"
      },
      "source": [
        "plt.subplot(211)\n",
        "plt.plot(np.arange(len(dataset['age'])),dataset['age'], '-');\n",
        "plt.subplot(212)\n",
        "plt.scatter(np.arange(len(dataset['fare'])),dataset['fare']);"
      ],
      "execution_count": 16,
      "outputs": [
        {
          "output_type": "display_data",
          "data": {
            "image/png": "[encoded data removed]",
            "text/plain": [
              "<Figure size 432x288 with 2 Axes>"
            ]
          },
          "metadata": {
            "tags": [],
            "needs_background": "light"
          }
        }
      ]
    },
    {
      "cell_type": "markdown",
      "metadata": {
        "colab_type": "text",
        "id": "LQr7y6eevTvy"
      },
      "source": [
        "## End of Part - 2\n",
        "---"
      ]
    },
    {
      "cell_type": "markdown",
      "metadata": {
        "colab_type": "text",
        "id": "TWhZcKvfvW2B"
      },
      "source": [
        "## Part - 3\n",
        "---"
      ]
    },
    {
      "cell_type": "markdown",
      "metadata": {
        "colab_type": "text",
        "id": "8bY4H9DszQ2S"
      },
      "source": [
        "In this part, you will work with the library ```matplotlib```. Import the ```pyplot``` from ```matplotlib``` with an alias name ```plt```."
      ]
    },
    {
      "cell_type": "code",
      "metadata": {
        "colab_type": "code",
        "id": "hPN6qctRzknT",
        "colab": {}
      },
      "source": [
        "import matplotlib.pyplot as plt\n",
        "%matplotlib inline"
      ],
      "execution_count": 0,
      "outputs": []
    },
    {
      "cell_type": "markdown",
      "metadata": {
        "colab_type": "text",
        "id": "fQ6KX_Aezlub"
      },
      "source": [
        "Plot the sine function with domain in $[-3\\pi,3\\pi]$. Label the axes appropriately. Add title $\\sin(x)$. Use latex formatting while adding the title. Set the plot size to (10,10)"
      ]
    },
    {
      "cell_type": "code",
      "metadata": {
        "colab_type": "code",
        "id": "0tA3J5mA1cQ0",
        "colab": {
          "base_uri": "https://localhost:8080/",
          "height": 606
        },
        "outputId": "cc9ea4da-d689-4384-ad54-a816554e8243"
      },
      "source": [
        "x = np.linspace(-3 * np.pi, 3 * np.pi, 1000)\n",
        "plt.figure(figsize=(10, 10))\n",
        "plt.xlabel('x')\n",
        "plt.ylabel('sin(x)');\n",
        "plt.title(r'')\n",
        "plt.plot(x, np.sin(x), '-');"
      ],
      "execution_count": 18,
      "outputs": [
        {
          "output_type": "display_data",
          "data": {
            "image/png": "[encoded data removed]",
            "text/plain": [
              "<Figure size 720x720 with 1 Axes>"
            ]
          },
          "metadata": {
            "tags": [],
            "needs_background": "light"
          }
        }
      ]
    },
    {
      "cell_type": "markdown",
      "metadata": {
        "colab_type": "text",
        "id": "6KV7RqMm1d8P"
      },
      "source": [
        "Plot $\\sin(x)$ and its spectrum, $\\cos(x)$ and its spectrum in a single plot, in the domain $[-2\\pi,2\\pi]$. Label the plot appropriately."
      ]
    },
    {
      "cell_type": "code",
      "metadata": {
        "id": "ltobxOIteTXF",
        "colab_type": "code",
        "colab": {
          "base_uri": "https://localhost:8080/",
          "height": 357
        },
        "outputId": "541ebad3-e7f1-450f-d0f2-c43e60920495"
      },
      "source": [
        "%matplotlib inline\n",
        "f_s = 100  # Sampling rate, or number of measurements per second\n",
        "\n",
        "x = np.linspace(-2 * np.pi, 2 * np.pi, 2 * f_s, endpoint=False)\n",
        "y = np.sin(x)\n",
        "\n",
        "ax = plt.subplot(111)\n",
        "plt.plot(x, y, label=\"sin(x)\")\n",
        "from scipy import fftpack\n",
        "\n",
        "X = fftpack.fft(y)\n",
        "freqs = fftpack.fftfreq(len(y)) * f_s\n",
        "\n",
        "plt.plot(freqs, X, label=\"spectrum of sin(x)\")\n",
        "\n",
        "y = np.cos(x)\n",
        "plt.plot(x, y, label=\"cos(x)\")\n",
        "\n",
        "X = fftpack.fft(y)\n",
        "freqs = fftpack.fftfreq(len(y)) * f_s\n",
        "\n",
        "plt.plot(freqs, X, label=\"spectrum of cos(x)\")\n",
        "ax.set_xlim(-2 * np.pi, 2 * np.pi)\n",
        "ax.set_ylim(-5, 10)\n",
        "\n",
        "leg = plt.legend(loc='best', ncol=2, mode=\"expand\", shadow=True, fancybox=True)\n",
        "leg.get_frame().set_alpha(0.5)\n",
        "plt.show()\n"
      ],
      "execution_count": 19,
      "outputs": [
        {
          "output_type": "stream",
          "text": [
            "/usr/local/lib/python3.6/dist-packages/numpy/core/_asarray.py:85: ComplexWarning: Casting complex values to real discards the imaginary part\n",
            "  return array(a, dtype, copy=False, order=order)\n",
            "/usr/local/lib/python3.6/dist-packages/numpy/core/_asarray.py:85: ComplexWarning: Casting complex values to real discards the imaginary part\n",
            "  return array(a, dtype, copy=False, order=order)\n"
          ],
          "name": "stderr"
        },
        {
          "output_type": "display_data",
          "data": {
            "image/png": "[encoded data removed]",
            "text/plain": [
              "<Figure size 432x288 with 1 Axes>"
            ]
          },
          "metadata": {
            "tags": [],
            "needs_background": "light"
          }
        }
      ]
    },
    {
      "cell_type": "markdown",
      "metadata": {
        "colab_type": "text",
        "id": "1S6ZRm6B18ZF"
      },
      "source": [
        "## End of Part - 3\n",
        "---"
      ]
    },
    {
      "cell_type": "markdown",
      "metadata": {
        "colab_type": "text",
        "id": "MUucpzXBl096"
      },
      "source": [
        "Create a Github repository with the name ***SHALA2020*** and save this assignment there."
      ]
    }
  ]
}