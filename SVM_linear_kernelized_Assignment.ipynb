{
  "nbformat": 4,
  "nbformat_minor": 0,
  "metadata": {
    "colab": {
      "name": "SVM_linear_kernelized_Assignment.ipynb",
      "provenance": [],
      "collapsed_sections": [],
      "include_colab_link": true
    },
    "kernelspec": {
      "display_name": "Python 3",
      "language": "python",
      "name": "python3"
    },
    "language_info": {
      "codemirror_mode": {
        "name": "ipython",
        "version": 3
      },
      "file_extension": ".py",
      "mimetype": "text/x-python",
      "name": "python",
      "nbconvert_exporter": "python",
      "pygments_lexer": "ipython3",
      "version": "3.6.9"
    }
  },
  "cells": [
    {
      "cell_type": "markdown",
      "metadata": {
        "id": "view-in-github",
        "colab_type": "text"
      },
      "source": [
        "<a href=\"https://colab.research.google.com/github/chindimaga/SHALA2020/blob/master/SVM_linear_kernelized_Assignment.ipynb\" target=\"_parent\"><img src=\"https://colab.research.google.com/assets/colab-badge.svg\" alt=\"Open In Colab\"/></a>"
      ]
    },
    {
      "cell_type": "markdown",
      "metadata": {
        "colab_type": "text",
        "id": "arLDVfoh4rOg"
      },
      "source": [
        "#**SVM**"
      ]
    },
    {
      "cell_type": "code",
      "metadata": {
        "colab_type": "code",
        "id": "MEEp0sf04pIP",
        "colab": {}
      },
      "source": [
        "import numpy as np\n",
        "import matplotlib.pyplot as plt\n",
        "import random\n",
        "from numpy import linalg as LA"
      ],
      "execution_count": 0,
      "outputs": []
    },
    {
      "cell_type": "markdown",
      "metadata": {
        "colab_type": "text",
        "id": "vJ2o5DL4478w"
      },
      "source": [
        "\n",
        "\n",
        "---\n",
        "\n",
        "\n",
        "**Generating Random linearly separable data**\n",
        "\n",
        "\n",
        "---\n",
        "\n"
      ]
    },
    {
      "cell_type": "code",
      "metadata": {
        "colab_type": "code",
        "id": "UbaJAhdL5BLA",
        "colab": {}
      },
      "source": [
        "np.random.seed(30)\n",
        "data = [[np.random.rand(), np.random.rand()] for i in range(10)]\n",
        "for i, point in enumerate(data):\n",
        "    x, y = point\n",
        "    if 0.5*x - y + 0.25 > 0:\n",
        "        data[i].append(-1)\n",
        "    else:\n",
        "        data[i].append(1)"
      ],
      "execution_count": 0,
      "outputs": []
    },
    {
      "cell_type": "markdown",
      "metadata": {
        "colab_type": "text",
        "id": "S3afrVhJ5FSS"
      },
      "source": [
        "\n",
        "\n",
        "---\n",
        "\n",
        "\n",
        "**Visualizing the above data**\n",
        "\n",
        "\n",
        "---\n",
        "\n"
      ]
    },
    {
      "cell_type": "code",
      "metadata": {
        "colab_type": "code",
        "id": "6x0FkJik5LPi",
        "outputId": "1ed90a6c-579b-402c-87b2-3c5980208f59",
        "colab": {
          "base_uri": "https://localhost:8080/",
          "height": 269
        }
      },
      "source": [
        "for x, y, l in data:\n",
        "    if l == 1: \n",
        "        clr = 'red'\n",
        "    else: \n",
        "        clr = 'blue'\n",
        "    plt.scatter(x, y, c=clr)\n",
        "plt.xlim(0,1)\n",
        "plt.ylim(0,1)\n",
        "plt.show()"
      ],
      "execution_count": 0,
      "outputs": [
        {
          "output_type": "display_data",
          "data": {
            "image/png": "[encoded data removed]",
            "text/plain": [
              "<Figure size 432x288 with 1 Axes>"
            ]
          },
          "metadata": {
            "tags": [],
            "needs_background": "light"
          }
        }
      ]
    },
    {
      "cell_type": "markdown",
      "metadata": {
        "colab_type": "text",
        "id": "yXabL9FB5Qe1"
      },
      "source": [
        "\n",
        "\n",
        "---\n",
        "\n",
        "\n",
        "**Train a SVM classifier using gradient descent and return a Weight Matrix which is a numpy array of length (N + 1) where N is dimension of training samples. You can refer to Fig. 1 in [this](https://www.cs.huji.ac.il/~shais/papers/ShalevSiSrCo10.pdf) paper for implementation. You can add arguments to svm_function according to your implementation.**\n",
        "\n",
        "\n",
        "---\n",
        "\n"
      ]
    },
    {
      "cell_type": "markdown",
      "metadata": {
        "id": "ljxl0S35h9eE",
        "colab_type": "text"
      },
      "source": [
        "Writing my own SVM class with sub-gradient method"
      ]
    },
    {
      "cell_type": "code",
      "metadata": {
        "id": "qLMbnT8ng4W4",
        "colab_type": "code",
        "colab": {}
      },
      "source": [
        "class SVM:\n",
        "    def __init__(self, epoch, C, lr):\n",
        "        self.epoch = epoch\n",
        "        self.C = C\n",
        "        self.lr= lr\n",
        "        self.w = None\n",
        "        self.b = None\n",
        "        self.error = []\n",
        "    \n",
        "    def fit(self, x, y):\n",
        "        y_ = np.where(y<=0,-1,1)\n",
        "        N , d = x.shape\n",
        "        self.w = np.zeros(d)\n",
        "        self.b = 0.0\n",
        "        self.error = []\n",
        "        for _ in range(self.epoch):\n",
        "            for idx , xi in enumerate(x):\n",
        "                distance = 1 - y_[idx] * (np.dot(xi, self.w)+self.b)\n",
        "                if distance <= 0:\n",
        "                    self.w -= self.lr *(2 * self.w/self.C)\n",
        "                else:\n",
        "                    self.w -= self.lr *((2 * self.w/self.C)- np.dot(xi, y_[idx]))\n",
        "                    self.b += self.lr * y_[idx]\n",
        "            e = self.compute_cost(x, y_)   \n",
        "            self.error.append(e)\n",
        "    \n",
        "    def params(self):\n",
        "        return self.w , self.b\n",
        "    \n",
        "    def epoch_error(self):\n",
        "        return self.error\n",
        "    \n",
        "    def compute_cost(self, X, Y):\n",
        "        distances = 1 - Y * (np.dot(X, self.w)+self.b)\n",
        "    #     max(0, distance)\n",
        "        distances[distances < 0] = 0  \n",
        "        hinge_loss = np.mean(distances)\n",
        "        cost = np.dot(self.w, self.w) + self.C * hinge_loss\n",
        "        return cost\n",
        "    "
      ],
      "execution_count": 0,
      "outputs": []
    },
    {
      "cell_type": "markdown",
      "metadata": {
        "colab_type": "text",
        "id": "-GMSHqOB5Y7n"
      },
      "source": [
        "\n",
        "\n",
        "---\n",
        "\n",
        "\n",
        "**Run SVM Classifier**\n",
        "\n",
        "\n",
        "---\n",
        "\n"
      ]
    },
    {
      "cell_type": "code",
      "metadata": {
        "colab_type": "code",
        "id": "MY2AcFkZ5d2a",
        "colab": {}
      },
      "source": [
        "data = np.asarray(data)\n",
        "X = data[:,:2]\n",
        "Y = data[:,2]\n",
        "C = 10000\n",
        "learning_rate = 0.001\n",
        "epochs = 10000\n",
        "model = SVM(epochs, C, learning_rate)\n",
        "model.fit(X, Y)"
      ],
      "execution_count": 0,
      "outputs": []
    },
    {
      "cell_type": "code",
      "metadata": {
        "id": "zmpF73zmg4XA",
        "colab_type": "code",
        "outputId": "f0f28f85-83ee-40c7-b844-d1f0ee23878c",
        "colab": {
          "base_uri": "https://localhost:8080/",
          "height": 282
        }
      },
      "source": [
        "plt.plot(model.epoch_error())\n",
        "plt.show()\n",
        "(m1,m2),c =model.params()\n",
        "print(m1,m2,c)"
      ],
      "execution_count": 0,
      "outputs": [
        {
          "output_type": "display_data",
          "data": {
            "image/png": "[encoded data removed]",
            "text/plain": [
              "<Figure size 432x288 with 1 Axes>"
            ]
          },
          "metadata": {
            "tags": [],
            "needs_background": "light"
          }
        },
        {
          "output_type": "stream",
          "text": [
            "-3.0851206020807815 5.55443109028723 -1.6019999999999344\n"
          ],
          "name": "stdout"
        }
      ]
    },
    {
      "cell_type": "markdown",
      "metadata": {
        "colab_type": "text",
        "id": "4t6lPISE5h4e"
      },
      "source": [
        "# **Visualize the classifier**\n",
        "\n",
        "\n",
        "---\n",
        "\n",
        "Write a code to draw a lines corrosponding to 'w' vector you got as output from svm_function and for a line from which actual data was generated (0.5*x - y + 0.25). \n",
        "\n",
        "---\n",
        "\n"
      ]
    },
    {
      "cell_type": "code",
      "metadata": {
        "colab_type": "code",
        "id": "wrCLTSVx5mBF",
        "outputId": "dff5a349-590c-4ef6-8ab2-178fc68b62c8",
        "colab": {
          "base_uri": "https://localhost:8080/",
          "height": 265
        }
      },
      "source": [
        "from matplotlib import cm\n",
        "ax = plt.gca()\n",
        "xlim = ax.get_xlim()\n",
        "ylim = ax.get_ylim()\n",
        "for x, y, l in data:\n",
        "    if l == 1: \n",
        "        clr = 'red'\n",
        "    else: \n",
        "        clr = 'blue'\n",
        "    plt.scatter(x, y, c=clr)\n",
        "ax = plt.gca()\n",
        "xlim = ax.get_xlim()\n",
        "ylim = ax.get_ylim()\n",
        "\n",
        "xx = np.linspace(xlim[0], xlim[1], 10)\n",
        "yy = np.linspace(ylim[0], ylim[1], 10)\n",
        "\n",
        "YY, XX = np.meshgrid(yy, xx)\n",
        "ax.contour(XX, YY, m1*XX + m2*YY + c, colors='k', levels=[-1, 0, 1], alpha=0.5,\n",
        "           linestyles=['--', '-', '--'])\n",
        "ax.contour(XX, YY, 0.5*XX - YY + 0.25, colors='r', levels=[0], alpha=0.5,\n",
        "           linestyles=['-'])\n",
        "plt.show()"
      ],
      "execution_count": 0,
      "outputs": [
        {
          "output_type": "display_data",
          "data": {
            "image/png": "[encoded data removed]",
            "text/plain": [
              "<Figure size 432x288 with 1 Axes>"
            ]
          },
          "metadata": {
            "tags": [],
            "needs_background": "light"
          }
        }
      ]
    },
    {
      "cell_type": "markdown",
      "metadata": {
        "colab_type": "text",
        "id": "zSQ2B6IK7pRq"
      },
      "source": [
        "#**Linearly Non-separable Data**"
      ]
    },
    {
      "cell_type": "code",
      "metadata": {
        "colab_type": "code",
        "id": "kZ5Mt_3Z73WS",
        "outputId": "8dc7a488-9a30-477c-e251-546501c84a54",
        "colab": {
          "base_uri": "https://localhost:8080/",
          "height": 279
        }
      },
      "source": [
        "from sklearn.datasets import make_circles\n",
        "from matplotlib import pyplot\n",
        "from pandas import DataFrame\n",
        "import pandas as pd\n",
        "\n",
        "# generate 2d classification dataset\n",
        "X, y = make_circles(n_samples=100, noise=0.05)\n",
        "# scatter plot, dots colored by class value\n",
        "df = DataFrame(dict(x=X[:,0], y=X[:,1], label=y))\n",
        "colors = {0:'red', 1:'blue'}\n",
        "fig, ax = pyplot.subplots()\n",
        "grouped = df.groupby('label')\n",
        "for key, group in grouped:\n",
        "    group.plot(ax=ax, kind='scatter', x='x', y='y', label=key, color=colors[key])\n",
        "pyplot.show()\n"
      ],
      "execution_count": 0,
      "outputs": [
        {
          "output_type": "display_data",
          "data": {
            "image/png": "[encoded data removed]",
            "text/plain": [
              "<Figure size 432x288 with 1 Axes>"
            ]
          },
          "metadata": {
            "tags": [],
            "needs_background": "light"
          }
        }
      ]
    },
    {
      "cell_type": "markdown",
      "metadata": {
        "colab_type": "text",
        "id": "SDtuOIuy6xPL"
      },
      "source": [
        "\n",
        "\n",
        "---\n",
        "\n",
        "\n",
        "**Train a SVM classifier on the linearly non-separable data by appropriate features crafted from input data For linearly non-separable data, you need to transform the data in a space where it can be linearly seprable.\n",
        "These features can be exponential, polynomial, trignometric or any other function of actual input features.\n",
        "For example, if your input data is (x1, x2) you can have hand-crafted features as (sin(x1), cos(x1), cos(x2), x1-x2).\n",
        "Here you need to think of which hand-crafted features can be best suited for data given to you.\n",
        "Write a function to convert input features to hand-crafted features. Use these features to train a SVM using svm_function.\n",
        "Note that, if you choose to have L hand-crafted features, SVM will return L+1 dimensional 'w'.**\n",
        "\n",
        "\n",
        "---\n",
        "\n"
      ]
    },
    {
      "cell_type": "code",
      "metadata": {
        "id": "bD9Pj7Zzg4XN",
        "colab_type": "code",
        "colab": {}
      },
      "source": [
        "xtrans = (df.x**2 + df.y**2)**0.5\n",
        "theta =np.arcsin(df.y/xtrans)"
      ],
      "execution_count": 0,
      "outputs": []
    },
    {
      "cell_type": "code",
      "metadata": {
        "id": "Grzw7shLg4XQ",
        "colab_type": "code",
        "outputId": "4a10ce50-c22b-4255-898b-e2748d70d691",
        "colab": {
          "base_uri": "https://localhost:8080/",
          "height": 279
        }
      },
      "source": [
        "df_trans = DataFrame(dict(x=xtrans, y=theta, label=y))\n",
        "colors = {0:'red', 1:'blue'}\n",
        "fig, ax = pyplot.subplots()\n",
        "grouped = df_trans.groupby('label')\n",
        "for key, group in grouped:\n",
        "    group.plot(ax=ax, kind='scatter', x='x', y='y', label=key, color=colors[key])\n",
        "pyplot.show()"
      ],
      "execution_count": 0,
      "outputs": [
        {
          "output_type": "display_data",
          "data": {
            "image/png": "[encoded data removed]",
            "text/plain": [
              "<Figure size 432x288 with 1 Axes>"
            ]
          },
          "metadata": {
            "tags": [],
            "needs_background": "light"
          }
        }
      ]
    },
    {
      "cell_type": "code",
      "metadata": {
        "id": "TY7kqFZKg4XU",
        "colab_type": "code",
        "colab": {}
      },
      "source": [
        "data = np.asarray(df_trans)\n",
        "X = data[:,:2]\n",
        "Y = data[:,2]\n",
        "C = 1000\n",
        "learning_rate = 0.001\n",
        "epochs = 5000\n",
        "model = SVM(epochs, C, learning_rate)\n",
        "model.fit(X, Y)"
      ],
      "execution_count": 0,
      "outputs": []
    },
    {
      "cell_type": "code",
      "metadata": {
        "id": "yblOsJIug4XX",
        "colab_type": "code",
        "outputId": "4225a8d9-e6d6-448c-b7df-7d230e67f257",
        "colab": {
          "base_uri": "https://localhost:8080/",
          "height": 282
        }
      },
      "source": [
        "plt.plot(model.epoch_error())\n",
        "plt.show()\n",
        "(m1,m2),c =model.params()\n",
        "print(m1,m2,c)"
      ],
      "execution_count": 0,
      "outputs": [
        {
          "output_type": "display_data",
          "data": {
            "image/png": "[encoded data removed]",
            "text/plain": [
              "<Figure size 432x288 with 1 Axes>"
            ]
          },
          "metadata": {
            "tags": [],
            "needs_background": "light"
          }
        },
        {
          "output_type": "stream",
          "text": [
            "-10.395990359310588 -0.004570568569900913 9.394000000000233\n"
          ],
          "name": "stdout"
        }
      ]
    },
    {
      "cell_type": "markdown",
      "metadata": {
        "colab_type": "text",
        "id": "k9RC8lVS81F8"
      },
      "source": [
        "\n",
        "\n",
        "---\n",
        "\n",
        "\n",
        "**Visualize the data points in the new feature space \"if possible\" to see whether they got separated or not.**\n",
        "\n",
        "\n",
        "---\n",
        "\n"
      ]
    },
    {
      "cell_type": "code",
      "metadata": {
        "colab_type": "code",
        "id": "rZF4nHvz6-2I",
        "outputId": "794f0c46-4a7a-486f-850f-09f541439dc4",
        "colab": {
          "base_uri": "https://localhost:8080/",
          "height": 265
        }
      },
      "source": [
        "from matplotlib import cm\n",
        "ax = plt.gca()\n",
        "xlim = ax.get_xlim()\n",
        "ylim = ax.get_ylim()\n",
        "for x, y, l in data:\n",
        "    if l == 1: \n",
        "        clr = 'blue'\n",
        "    else: \n",
        "        clr = 'red'\n",
        "    plt.scatter(x, y, c=clr)\n",
        "ax = plt.gca()\n",
        "xlim = ax.get_xlim()\n",
        "ylim = ax.get_ylim()\n",
        "\n",
        "xx = np.linspace(xlim[0], xlim[1], 10)\n",
        "yy = np.linspace(ylim[0], ylim[1], 10)\n",
        "\n",
        "YY, XX = np.meshgrid(yy, xx)\n",
        "ax.contour(XX, YY, m1*XX + m2*YY + c, colors='k', levels=[-1, 0, 1], alpha=0.5,\n",
        "           linestyles=['--', '-', '--'])\n",
        "plt.show()"
      ],
      "execution_count": 0,
      "outputs": [
        {
          "output_type": "display_data",
          "data": {
            "image/png": "[encoded data removed]",
            "text/plain": [
              "<Figure size 432x288 with 1 Axes>"
            ]
          },
          "metadata": {
            "tags": [],
            "needs_background": "light"
          }
        }
      ]
    },
    {
      "cell_type": "code",
      "metadata": {
        "id": "6GZdNGaBg4Xd",
        "colab_type": "code",
        "colab": {}
      },
      "source": [
        ""
      ],
      "execution_count": 0,
      "outputs": []
    }
  ]
}