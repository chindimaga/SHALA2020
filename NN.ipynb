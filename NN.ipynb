{
  "nbformat": 4,
  "nbformat_minor": 0,
  "metadata": {
    "colab": {
      "name": "NN.ipynb",
      "provenance": [],
      "authorship_tag": "ABX9TyMZAYLv56QvEPzpw1NpZF2y",
      "include_colab_link": true
    },
    "kernelspec": {
      "name": "python3",
      "display_name": "Python 3"
    },
    "accelerator": "GPU"
  },
  "cells": [
    {
      "cell_type": "markdown",
      "metadata": {
        "id": "view-in-github",
        "colab_type": "text"
      },
      "source": [
        "<a href=\"https://colab.research.google.com/github/chindimaga/SHALA2020/blob/master/NN.ipynb\" target=\"_parent\"><img src=\"https://colab.research.google.com/assets/colab-badge.svg\" alt=\"Open In Colab\"/></a>"
      ]
    },
    {
      "cell_type": "code",
      "metadata": {
        "id": "BMykZrRX8pyr",
        "colab_type": "code",
        "outputId": "468c796e-cadb-497b-f2c8-4269da6b9901",
        "colab": {
          "base_uri": "https://localhost:8080/",
          "height": 34
        }
      },
      "source": [
        "import tensorflow as tf\n",
        "import numpy as np\n",
        "\n",
        "print(tf.__version__)\n",
        "\n",
        "gpu = tf.config.experimental.list_physical_devices(\"GPU\")"
      ],
      "execution_count": 1,
      "outputs": [
        {
          "output_type": "stream",
          "text": [
            "2.2.0\n"
          ],
          "name": "stdout"
        }
      ]
    },
    {
      "cell_type": "code",
      "metadata": {
        "id": "hNQlmaxC8ubA",
        "colab_type": "code",
        "outputId": "596141c5-dfe4-442e-cc0a-0677c584c1c8",
        "colab": {
          "base_uri": "https://localhost:8080/",
          "height": 34
        }
      },
      "source": [
        "gpu"
      ],
      "execution_count": 2,
      "outputs": [
        {
          "output_type": "execute_result",
          "data": {
            "text/plain": [
              "[PhysicalDevice(name='/physical_device:GPU:0', device_type='GPU')]"
            ]
          },
          "metadata": {
            "tags": []
          },
          "execution_count": 2
        }
      ]
    },
    {
      "cell_type": "code",
      "metadata": {
        "id": "16soRm678vYO",
        "colab_type": "code",
        "colab": {}
      },
      "source": [
        "tf.config.experimental.set_memory_growth(gpu[0],True)"
      ],
      "execution_count": 0,
      "outputs": []
    },
    {
      "cell_type": "markdown",
      "metadata": {
        "id": "Ab4Zz0kT9Nvr",
        "colab_type": "text"
      },
      "source": [
        "Load data"
      ]
    },
    {
      "cell_type": "code",
      "metadata": {
        "id": "WMfls2eY9GNz",
        "colab_type": "code",
        "outputId": "0c01bc38-979f-4a88-c9dd-244a95a95479",
        "colab": {
          "base_uri": "https://localhost:8080/",
          "height": 51
        }
      },
      "source": [
        "(traindata, trainlabels),(testdata, testlabels) = tf.keras.datasets.mnist.load_data()"
      ],
      "execution_count": 4,
      "outputs": [
        {
          "output_type": "stream",
          "text": [
            "Downloading data from https://storage.googleapis.com/tensorflow/tf-keras-datasets/mnist.npz\n",
            "11493376/11490434 [==============================] - 0s 0us/step\n"
          ],
          "name": "stdout"
        }
      ]
    },
    {
      "cell_type": "markdown",
      "metadata": {
        "id": "8wZBNzjU9z-3",
        "colab_type": "text"
      },
      "source": [
        "Prepare data"
      ]
    },
    {
      "cell_type": "code",
      "metadata": {
        "id": "Hx_JdXwv_E2P",
        "colab_type": "code",
        "colab": {}
      },
      "source": [
        "num_classes=10\n",
        "image_height= 28\n",
        "image_width = 28\n",
        "image_channels = 1"
      ],
      "execution_count": 0,
      "outputs": []
    },
    {
      "cell_type": "code",
      "metadata": {
        "id": "cjdlF21D9-Bn",
        "colab_type": "code",
        "colab": {}
      },
      "source": [
        "traindata=traindata.reshape((traindata.shape[0],image_height,image_width,image_channels) )\n",
        "testdata=testdata.reshape((testdata.shape[0],image_height,image_width,image_channels) )"
      ],
      "execution_count": 0,
      "outputs": []
    },
    {
      "cell_type": "code",
      "metadata": {
        "id": "YeZkCSW-_jZ5",
        "colab_type": "code",
        "colab": {}
      },
      "source": [
        "traindata = traindata.astype(\"float32\")/255.0\n",
        "testdata = testdata.astype(\"float32\")/255.0"
      ],
      "execution_count": 0,
      "outputs": []
    },
    {
      "cell_type": "code",
      "metadata": {
        "id": "wUMn8KErIghp",
        "colab_type": "code",
        "colab": {}
      },
      "source": [
        "traindata = np.pad(traindata,((0,0),(2,2),(2,2),(0,0)), 'constant')\n",
        "testdata = np.pad(testdata,((0,0),(2,2),(2,2),(0,0)), 'constant')"
      ],
      "execution_count": 0,
      "outputs": []
    },
    {
      "cell_type": "code",
      "metadata": {
        "id": "F3RnMJHTIxKj",
        "colab_type": "code",
        "colab": {
          "base_uri": "https://localhost:8080/",
          "height": 85
        },
        "outputId": "f5946fac-8fd0-4d0a-b669-6c53993ab266"
      },
      "source": [
        "print(traindata.shape)\n",
        "print(trainlabels.shape)\n",
        "print(testdata.shape)\n",
        "print(testlabels.shape)"
      ],
      "execution_count": 9,
      "outputs": [
        {
          "output_type": "stream",
          "text": [
            "(60000, 32, 32, 1)\n",
            "(60000,)\n",
            "(10000, 32, 32, 1)\n",
            "(10000,)\n"
          ],
          "name": "stdout"
        }
      ]
    },
    {
      "cell_type": "code",
      "metadata": {
        "id": "4MPT-Tu-I_W6",
        "colab_type": "code",
        "colab": {}
      },
      "source": [
        "num_classes=10\n",
        "image_height= 32\n",
        "image_width = 32\n",
        "image_channels = 1"
      ],
      "execution_count": 0,
      "outputs": []
    },
    {
      "cell_type": "code",
      "metadata": {
        "id": "Xwfv1T3PKwOt",
        "colab_type": "code",
        "colab": {}
      },
      "source": [
        "from tensorflow.keras import backend, models, layers"
      ],
      "execution_count": 0,
      "outputs": []
    },
    {
      "cell_type": "code",
      "metadata": {
        "id": "pzwcskfUJJg-",
        "colab_type": "code",
        "colab": {}
      },
      "source": [
        "class LeNet:\n",
        "  @staticmethod\n",
        "  def init(numChannels, imgRows, imgCols, numClasses, weightsPath=None):\n",
        "    if backend.image_data_format() == \"channel_first\":\n",
        "      inputShape = (numChannels, imgRows, imgCols)\n",
        "    else:\n",
        "         inputShape = ( imgRows, imgCols, numChannels)\n",
        "\n",
        "    model = models.Sequential()\n",
        "\n",
        "    model.add(layers.Conv2D(filters= 6, kernel_size=(5,5),strides=(1,1),padding='valid', activation=tf.nn.tanh, input_shape=inputShape))\n",
        "    model.add(layers.AveragePooling2D(pool_size=(2,2),strides=(2,2)))\n",
        "\n",
        "    model.add(layers.Conv2D(filters= 16, kernel_size=(5,5),strides=(1,1),padding='valid', activation=tf.nn.tanh, input_shape=inputShape))\n",
        "    model.add(layers.AveragePooling2D(pool_size=(2,2),strides=(2,2)))\n",
        "\n",
        "    model.add(layers.Flatten())\n",
        "\n",
        "    model.add(layers.Dense(units = 120,  activation=tf.nn.tanh))\n",
        "    model.add(layers.Dense(units = 84,  activation=tf.nn.tanh))\n",
        "    model.add(layers.Dense(units =numClasses,  activation=tf.nn.softmax))\n",
        "\n",
        "    if weightsPath is not None:\n",
        "      model.load_weights(weightsPath)\n",
        "      \n",
        "    return model  \n",
        "\n"
      ],
      "execution_count": 0,
      "outputs": []
    },
    {
      "cell_type": "markdown",
      "metadata": {
        "id": "1kSzC-wGMnGN",
        "colab_type": "text"
      },
      "source": [
        "Compile"
      ]
    },
    {
      "cell_type": "code",
      "metadata": {
        "id": "dw4ProDPMFG0",
        "colab_type": "code",
        "colab": {}
      },
      "source": [
        "model = LeNet.init(numChannels=image_channels, imgRows=image_height, imgCols=image_width, numClasses=num_classes)"
      ],
      "execution_count": 0,
      "outputs": []
    },
    {
      "cell_type": "code",
      "metadata": {
        "id": "99BUupZGNM3o",
        "colab_type": "code",
        "colab": {
          "base_uri": "https://localhost:8080/",
          "height": 425
        },
        "outputId": "3cb8b80f-bacf-46a1-b337-97e1ff65819f"
      },
      "source": [
        "model.compile(optimizer=tf.keras.optimizers.SGD(lr=0.01), loss=\"sparse_categorical_crossentropy\", metrics=[\"accuracy\"])\n",
        "model.summary()"
      ],
      "execution_count": 14,
      "outputs": [
        {
          "output_type": "stream",
          "text": [
            "Model: \"sequential\"\n",
            "_________________________________________________________________\n",
            "Layer (type)                 Output Shape              Param #   \n",
            "=================================================================\n",
            "conv2d (Conv2D)              (None, 28, 28, 6)         156       \n",
            "_________________________________________________________________\n",
            "average_pooling2d (AveragePo (None, 14, 14, 6)         0         \n",
            "_________________________________________________________________\n",
            "conv2d_1 (Conv2D)            (None, 10, 10, 16)        2416      \n",
            "_________________________________________________________________\n",
            "average_pooling2d_1 (Average (None, 5, 5, 16)          0         \n",
            "_________________________________________________________________\n",
            "flatten (Flatten)            (None, 400)               0         \n",
            "_________________________________________________________________\n",
            "dense (Dense)                (None, 120)               48120     \n",
            "_________________________________________________________________\n",
            "dense_1 (Dense)              (None, 84)                10164     \n",
            "_________________________________________________________________\n",
            "dense_2 (Dense)              (None, 10)                850       \n",
            "=================================================================\n",
            "Total params: 61,706\n",
            "Trainable params: 61,706\n",
            "Non-trainable params: 0\n",
            "_________________________________________________________________\n"
          ],
          "name": "stdout"
        }
      ]
    },
    {
      "cell_type": "code",
      "metadata": {
        "id": "YibmPei2Nksj",
        "colab_type": "code",
        "colab": {}
      },
      "source": [
        "class myCallback(tf.keras.callbacks.Callback):\n",
        "  def on_epoch_end(self, epoch, logs = None):\n",
        "    if(logs.get('accuracy')>0.99):\n",
        "      print(\"\\nReached 99% accuracy, so training stopped\")\n",
        "      self.model.stop_training = True"
      ],
      "execution_count": 0,
      "outputs": []
    },
    {
      "cell_type": "code",
      "metadata": {
        "id": "70sYYExuOTQt",
        "colab_type": "code",
        "colab": {}
      },
      "source": [
        "batch_size = 128\n",
        "epochs = 100"
      ],
      "execution_count": 0,
      "outputs": []
    },
    {
      "cell_type": "markdown",
      "metadata": {
        "id": "AuuS5BknOb1E",
        "colab_type": "text"
      },
      "source": [
        "Training"
      ]
    },
    {
      "cell_type": "code",
      "metadata": {
        "id": "VE0quSseOajN",
        "colab_type": "code",
        "colab": {
          "base_uri": "https://localhost:8080/",
          "height": 1000
        },
        "outputId": "69531d27-c2b0-4e81-acb6-ebce49261539"
      },
      "source": [
        "history = model.fit(x=traindata, y = trainlabels, validation_data=(testdata, testlabels), batch_size=batch_size, epochs=epochs, verbose=1, callbacks=[myCallback()])"
      ],
      "execution_count": 18,
      "outputs": [
        {
          "output_type": "stream",
          "text": [
            "Epoch 1/100\n",
            "469/469 [==============================] - 3s 7ms/step - loss: 1.1178 - accuracy: 0.7166 - val_loss: 0.5377 - val_accuracy: 0.8699\n",
            "Epoch 2/100\n",
            "469/469 [==============================] - 3s 6ms/step - loss: 0.4627 - accuracy: 0.8790 - val_loss: 0.3813 - val_accuracy: 0.8975\n",
            "Epoch 3/100\n",
            "469/469 [==============================] - 3s 6ms/step - loss: 0.3667 - accuracy: 0.8981 - val_loss: 0.3221 - val_accuracy: 0.9099\n",
            "Epoch 4/100\n",
            "469/469 [==============================] - 3s 6ms/step - loss: 0.3205 - accuracy: 0.9092 - val_loss: 0.2870 - val_accuracy: 0.9176\n",
            "Epoch 5/100\n",
            "469/469 [==============================] - 3s 6ms/step - loss: 0.2902 - accuracy: 0.9165 - val_loss: 0.2608 - val_accuracy: 0.9246\n",
            "Epoch 6/100\n",
            "469/469 [==============================] - 3s 6ms/step - loss: 0.2668 - accuracy: 0.9227 - val_loss: 0.2410 - val_accuracy: 0.9309\n",
            "Epoch 7/100\n",
            "469/469 [==============================] - 3s 6ms/step - loss: 0.2474 - accuracy: 0.9274 - val_loss: 0.2242 - val_accuracy: 0.9349\n",
            "Epoch 8/100\n",
            "469/469 [==============================] - 3s 6ms/step - loss: 0.2307 - accuracy: 0.9319 - val_loss: 0.2089 - val_accuracy: 0.9387\n",
            "Epoch 9/100\n",
            "469/469 [==============================] - 3s 6ms/step - loss: 0.2158 - accuracy: 0.9362 - val_loss: 0.1968 - val_accuracy: 0.9430\n",
            "Epoch 10/100\n",
            "469/469 [==============================] - 3s 6ms/step - loss: 0.2024 - accuracy: 0.9402 - val_loss: 0.1842 - val_accuracy: 0.9450\n",
            "Epoch 11/100\n",
            "469/469 [==============================] - 3s 6ms/step - loss: 0.1903 - accuracy: 0.9435 - val_loss: 0.1742 - val_accuracy: 0.9480\n",
            "Epoch 12/100\n",
            "469/469 [==============================] - 3s 6ms/step - loss: 0.1794 - accuracy: 0.9468 - val_loss: 0.1641 - val_accuracy: 0.9515\n",
            "Epoch 13/100\n",
            "469/469 [==============================] - 3s 6ms/step - loss: 0.1695 - accuracy: 0.9499 - val_loss: 0.1550 - val_accuracy: 0.9546\n",
            "Epoch 14/100\n",
            "469/469 [==============================] - 3s 6ms/step - loss: 0.1605 - accuracy: 0.9527 - val_loss: 0.1474 - val_accuracy: 0.9554\n",
            "Epoch 15/100\n",
            "469/469 [==============================] - 3s 6ms/step - loss: 0.1522 - accuracy: 0.9554 - val_loss: 0.1398 - val_accuracy: 0.9595\n",
            "Epoch 16/100\n",
            "469/469 [==============================] - 3s 6ms/step - loss: 0.1447 - accuracy: 0.9573 - val_loss: 0.1324 - val_accuracy: 0.9613\n",
            "Epoch 17/100\n",
            "469/469 [==============================] - 3s 6ms/step - loss: 0.1378 - accuracy: 0.9598 - val_loss: 0.1268 - val_accuracy: 0.9641\n",
            "Epoch 18/100\n",
            "469/469 [==============================] - 3s 7ms/step - loss: 0.1315 - accuracy: 0.9617 - val_loss: 0.1208 - val_accuracy: 0.9653\n",
            "Epoch 19/100\n",
            "469/469 [==============================] - 3s 7ms/step - loss: 0.1257 - accuracy: 0.9631 - val_loss: 0.1154 - val_accuracy: 0.9670\n",
            "Epoch 20/100\n",
            "469/469 [==============================] - 3s 7ms/step - loss: 0.1204 - accuracy: 0.9644 - val_loss: 0.1114 - val_accuracy: 0.9672\n",
            "Epoch 21/100\n",
            "469/469 [==============================] - 3s 6ms/step - loss: 0.1155 - accuracy: 0.9662 - val_loss: 0.1074 - val_accuracy: 0.9692\n",
            "Epoch 22/100\n",
            "469/469 [==============================] - 3s 6ms/step - loss: 0.1109 - accuracy: 0.9675 - val_loss: 0.1035 - val_accuracy: 0.9693\n",
            "Epoch 23/100\n",
            "469/469 [==============================] - 3s 7ms/step - loss: 0.1069 - accuracy: 0.9688 - val_loss: 0.0992 - val_accuracy: 0.9706\n",
            "Epoch 24/100\n",
            "469/469 [==============================] - 3s 6ms/step - loss: 0.1029 - accuracy: 0.9700 - val_loss: 0.0960 - val_accuracy: 0.9723\n",
            "Epoch 25/100\n",
            "469/469 [==============================] - 3s 6ms/step - loss: 0.0993 - accuracy: 0.9711 - val_loss: 0.0932 - val_accuracy: 0.9723\n",
            "Epoch 26/100\n",
            "469/469 [==============================] - 3s 6ms/step - loss: 0.0958 - accuracy: 0.9720 - val_loss: 0.0899 - val_accuracy: 0.9729\n",
            "Epoch 27/100\n",
            "469/469 [==============================] - 3s 6ms/step - loss: 0.0928 - accuracy: 0.9730 - val_loss: 0.0878 - val_accuracy: 0.9738\n",
            "Epoch 28/100\n",
            "469/469 [==============================] - 3s 6ms/step - loss: 0.0899 - accuracy: 0.9743 - val_loss: 0.0847 - val_accuracy: 0.9745\n",
            "Epoch 29/100\n",
            "469/469 [==============================] - 3s 6ms/step - loss: 0.0871 - accuracy: 0.9748 - val_loss: 0.0826 - val_accuracy: 0.9760\n",
            "Epoch 30/100\n",
            "469/469 [==============================] - 3s 6ms/step - loss: 0.0845 - accuracy: 0.9758 - val_loss: 0.0808 - val_accuracy: 0.9764\n",
            "Epoch 31/100\n",
            "469/469 [==============================] - 3s 6ms/step - loss: 0.0821 - accuracy: 0.9767 - val_loss: 0.0788 - val_accuracy: 0.9767\n",
            "Epoch 32/100\n",
            "469/469 [==============================] - 3s 6ms/step - loss: 0.0798 - accuracy: 0.9774 - val_loss: 0.0762 - val_accuracy: 0.9777\n",
            "Epoch 33/100\n",
            "469/469 [==============================] - 3s 6ms/step - loss: 0.0777 - accuracy: 0.9779 - val_loss: 0.0741 - val_accuracy: 0.9783\n",
            "Epoch 34/100\n",
            "469/469 [==============================] - 3s 6ms/step - loss: 0.0757 - accuracy: 0.9787 - val_loss: 0.0723 - val_accuracy: 0.9783\n",
            "Epoch 35/100\n",
            "469/469 [==============================] - 3s 6ms/step - loss: 0.0737 - accuracy: 0.9790 - val_loss: 0.0707 - val_accuracy: 0.9790\n",
            "Epoch 36/100\n",
            "469/469 [==============================] - 3s 6ms/step - loss: 0.0718 - accuracy: 0.9797 - val_loss: 0.0692 - val_accuracy: 0.9795\n",
            "Epoch 37/100\n",
            "469/469 [==============================] - 3s 6ms/step - loss: 0.0702 - accuracy: 0.9802 - val_loss: 0.0682 - val_accuracy: 0.9795\n",
            "Epoch 38/100\n",
            "469/469 [==============================] - 3s 6ms/step - loss: 0.0685 - accuracy: 0.9806 - val_loss: 0.0672 - val_accuracy: 0.9796\n",
            "Epoch 39/100\n",
            "469/469 [==============================] - 3s 6ms/step - loss: 0.0669 - accuracy: 0.9811 - val_loss: 0.0655 - val_accuracy: 0.9808\n",
            "Epoch 40/100\n",
            "469/469 [==============================] - 3s 6ms/step - loss: 0.0655 - accuracy: 0.9813 - val_loss: 0.0644 - val_accuracy: 0.9809\n",
            "Epoch 41/100\n",
            "469/469 [==============================] - 3s 6ms/step - loss: 0.0640 - accuracy: 0.9817 - val_loss: 0.0640 - val_accuracy: 0.9813\n",
            "Epoch 42/100\n",
            "469/469 [==============================] - 3s 6ms/step - loss: 0.0626 - accuracy: 0.9823 - val_loss: 0.0626 - val_accuracy: 0.9813\n",
            "Epoch 43/100\n",
            "469/469 [==============================] - 3s 6ms/step - loss: 0.0615 - accuracy: 0.9826 - val_loss: 0.0616 - val_accuracy: 0.9821\n",
            "Epoch 44/100\n",
            "469/469 [==============================] - 3s 6ms/step - loss: 0.0602 - accuracy: 0.9830 - val_loss: 0.0603 - val_accuracy: 0.9819\n",
            "Epoch 45/100\n",
            "469/469 [==============================] - 3s 6ms/step - loss: 0.0590 - accuracy: 0.9832 - val_loss: 0.0601 - val_accuracy: 0.9818\n",
            "Epoch 46/100\n",
            "469/469 [==============================] - 3s 6ms/step - loss: 0.0578 - accuracy: 0.9836 - val_loss: 0.0588 - val_accuracy: 0.9827\n",
            "Epoch 47/100\n",
            "469/469 [==============================] - 3s 6ms/step - loss: 0.0568 - accuracy: 0.9837 - val_loss: 0.0581 - val_accuracy: 0.9825\n",
            "Epoch 48/100\n",
            "469/469 [==============================] - 3s 6ms/step - loss: 0.0557 - accuracy: 0.9838 - val_loss: 0.0566 - val_accuracy: 0.9833\n",
            "Epoch 49/100\n",
            "469/469 [==============================] - 3s 6ms/step - loss: 0.0548 - accuracy: 0.9843 - val_loss: 0.0557 - val_accuracy: 0.9825\n",
            "Epoch 50/100\n",
            "469/469 [==============================] - 3s 6ms/step - loss: 0.0537 - accuracy: 0.9843 - val_loss: 0.0560 - val_accuracy: 0.9832\n",
            "Epoch 51/100\n",
            "469/469 [==============================] - 3s 6ms/step - loss: 0.0528 - accuracy: 0.9848 - val_loss: 0.0561 - val_accuracy: 0.9833\n",
            "Epoch 52/100\n",
            "469/469 [==============================] - 3s 6ms/step - loss: 0.0520 - accuracy: 0.9850 - val_loss: 0.0541 - val_accuracy: 0.9836\n",
            "Epoch 53/100\n",
            "469/469 [==============================] - 3s 6ms/step - loss: 0.0511 - accuracy: 0.9853 - val_loss: 0.0534 - val_accuracy: 0.9837\n",
            "Epoch 54/100\n",
            "469/469 [==============================] - 3s 6ms/step - loss: 0.0502 - accuracy: 0.9854 - val_loss: 0.0528 - val_accuracy: 0.9837\n",
            "Epoch 55/100\n",
            "469/469 [==============================] - 3s 6ms/step - loss: 0.0495 - accuracy: 0.9857 - val_loss: 0.0516 - val_accuracy: 0.9836\n",
            "Epoch 56/100\n",
            "469/469 [==============================] - 3s 6ms/step - loss: 0.0486 - accuracy: 0.9860 - val_loss: 0.0513 - val_accuracy: 0.9834\n",
            "Epoch 57/100\n",
            "469/469 [==============================] - 3s 6ms/step - loss: 0.0479 - accuracy: 0.9865 - val_loss: 0.0516 - val_accuracy: 0.9840\n",
            "Epoch 58/100\n",
            "469/469 [==============================] - 3s 6ms/step - loss: 0.0472 - accuracy: 0.9864 - val_loss: 0.0502 - val_accuracy: 0.9842\n",
            "Epoch 59/100\n",
            "469/469 [==============================] - 3s 6ms/step - loss: 0.0464 - accuracy: 0.9868 - val_loss: 0.0496 - val_accuracy: 0.9841\n",
            "Epoch 60/100\n",
            "469/469 [==============================] - 3s 6ms/step - loss: 0.0457 - accuracy: 0.9871 - val_loss: 0.0500 - val_accuracy: 0.9840\n",
            "Epoch 61/100\n",
            "469/469 [==============================] - 3s 6ms/step - loss: 0.0451 - accuracy: 0.9875 - val_loss: 0.0488 - val_accuracy: 0.9841\n",
            "Epoch 62/100\n",
            "469/469 [==============================] - 3s 6ms/step - loss: 0.0444 - accuracy: 0.9874 - val_loss: 0.0485 - val_accuracy: 0.9848\n",
            "Epoch 63/100\n",
            "469/469 [==============================] - 3s 6ms/step - loss: 0.0438 - accuracy: 0.9874 - val_loss: 0.0477 - val_accuracy: 0.9844\n",
            "Epoch 64/100\n",
            "469/469 [==============================] - 3s 6ms/step - loss: 0.0432 - accuracy: 0.9880 - val_loss: 0.0469 - val_accuracy: 0.9845\n",
            "Epoch 65/100\n",
            "469/469 [==============================] - 3s 6ms/step - loss: 0.0425 - accuracy: 0.9881 - val_loss: 0.0475 - val_accuracy: 0.9844\n",
            "Epoch 66/100\n",
            "469/469 [==============================] - 3s 6ms/step - loss: 0.0420 - accuracy: 0.9883 - val_loss: 0.0468 - val_accuracy: 0.9843\n",
            "Epoch 67/100\n",
            "469/469 [==============================] - 3s 6ms/step - loss: 0.0413 - accuracy: 0.9882 - val_loss: 0.0460 - val_accuracy: 0.9851\n",
            "Epoch 68/100\n",
            "469/469 [==============================] - 3s 6ms/step - loss: 0.0408 - accuracy: 0.9886 - val_loss: 0.0451 - val_accuracy: 0.9850\n",
            "Epoch 69/100\n",
            "469/469 [==============================] - 3s 6ms/step - loss: 0.0402 - accuracy: 0.9887 - val_loss: 0.0455 - val_accuracy: 0.9847\n",
            "Epoch 70/100\n",
            "469/469 [==============================] - 3s 6ms/step - loss: 0.0397 - accuracy: 0.9890 - val_loss: 0.0455 - val_accuracy: 0.9850\n",
            "Epoch 71/100\n",
            "469/469 [==============================] - 3s 6ms/step - loss: 0.0392 - accuracy: 0.9890 - val_loss: 0.0450 - val_accuracy: 0.9845\n",
            "Epoch 72/100\n",
            "469/469 [==============================] - 3s 6ms/step - loss: 0.0387 - accuracy: 0.9892 - val_loss: 0.0446 - val_accuracy: 0.9849\n",
            "Epoch 73/100\n",
            "469/469 [==============================] - 3s 6ms/step - loss: 0.0382 - accuracy: 0.9894 - val_loss: 0.0439 - val_accuracy: 0.9856\n",
            "Epoch 74/100\n",
            "469/469 [==============================] - 3s 6ms/step - loss: 0.0377 - accuracy: 0.9897 - val_loss: 0.0449 - val_accuracy: 0.9846\n",
            "Epoch 75/100\n",
            "469/469 [==============================] - 3s 6ms/step - loss: 0.0373 - accuracy: 0.9896 - val_loss: 0.0428 - val_accuracy: 0.9859\n",
            "Epoch 76/100\n",
            "469/469 [==============================] - 3s 6ms/step - loss: 0.0368 - accuracy: 0.9899 - val_loss: 0.0436 - val_accuracy: 0.9851\n",
            "Epoch 77/100\n",
            "469/469 [==============================] - 3s 6ms/step - loss: 0.0364 - accuracy: 0.9898 - val_loss: 0.0429 - val_accuracy: 0.9852\n",
            "Epoch 78/100\n",
            "467/469 [============================>.] - ETA: 0s - loss: 0.0359 - accuracy: 0.9901\n",
            "Reached 99% accuracy, so training stopped\n",
            "469/469 [==============================] - 3s 6ms/step - loss: 0.0359 - accuracy: 0.9901 - val_loss: 0.0421 - val_accuracy: 0.9864\n"
          ],
          "name": "stdout"
        }
      ]
    },
    {
      "cell_type": "code",
      "metadata": {
        "id": "vtqW-fkKOzOZ",
        "colab_type": "code",
        "colab": {
          "base_uri": "https://localhost:8080/",
          "height": 607
        },
        "outputId": "1815e9f8-dc5b-4b1c-ced5-6eb2374c7e93"
      },
      "source": [
        "%matplotlib inline\n",
        "import matplotlib.pyplot as plt\n",
        "\n",
        "acc = history.history['accuracy']\n",
        "val_acc = history.history['val_accuracy']\n",
        "loss = history.history['loss']\n",
        "val_loss = history.history['val_loss']\n",
        "\n",
        "epochs  = range(len(acc))\n",
        "\n",
        "plt.plot(epochs, acc, label = 'train accuracy')\n",
        "plt.plot(epochs, val_acc, label = 'validation accuracy')\n",
        "plt.xlabel('epochs')\n",
        "plt.ylabel('accuracy')\n",
        "plt.legend(loc=\"lower right\")\n",
        "plt.title('Training and validation accuracy')\n",
        "plt.figure()\n",
        "\n",
        "plt.plot(epochs, loss, label = 'train loss')\n",
        "plt.plot(epochs, val_loss, label = 'validation loss')\n",
        "plt.xlabel('epochs')\n",
        "plt.ylabel('loss')\n",
        "plt.legend(loc=\"lower right\")\n",
        "plt.title('Training and validation loss')\n",
        "plt.figure()"
      ],
      "execution_count": 19,
      "outputs": [
        {
          "output_type": "execute_result",
          "data": {
            "text/plain": [
              "<Figure size 432x288 with 0 Axes>"
            ]
          },
          "metadata": {
            "tags": []
          },
          "execution_count": 19
        },
        {
          "output_type": "display_data",
          "data": {
            "image/png": "[encoded data removed]",
            "text/plain": [
              "<Figure size 432x288 with 1 Axes>"
            ]
          },
          "metadata": {
            "tags": [],
            "needs_background": "light"
          }
        },
        {
          "output_type": "display_data",
          "data": {
            "image/png": "[encoded data removed]",
            "text/plain": [
              "<Figure size 432x288 with 1 Axes>"
            ]
          },
          "metadata": {
            "tags": [],
            "needs_background": "light"
          }
        },
        {
          "output_type": "display_data",
          "data": {
            "text/plain": [
              "<Figure size 432x288 with 0 Axes>"
            ]
          },
          "metadata": {
            "tags": []
          }
        }
      ]
    },
    {
      "cell_type": "code",
      "metadata": {
        "id": "wj8-ofOKRSyC",
        "colab_type": "code",
        "colab": {
          "base_uri": "https://localhost:8080/",
          "height": 51
        },
        "outputId": "2678058e-91b9-4b8c-f50c-15ad3fc94ec6"
      },
      "source": [
        "(loss , accuracy)=model.evaluate(testdata, testlabels, batch_size=batch_size, verbose=1)\n",
        "print(f\"Accuracy : {accuracy}\")"
      ],
      "execution_count": 21,
      "outputs": [
        {
          "output_type": "stream",
          "text": [
            "79/79 [==============================] - 0s 3ms/step - loss: 0.0421 - accuracy: 0.9864\n",
            "Accuracy : 0.9864000082015991\n"
          ],
          "name": "stdout"
        }
      ]
    },
    {
      "cell_type": "code",
      "metadata": {
        "id": "j5vY9bkQRrHY",
        "colab_type": "code",
        "colab": {}
      },
      "source": [
        "model.save_weights(\"/content/LeNetMNIST.temp.hdf5\", overwrite=True)"
      ],
      "execution_count": 0,
      "outputs": []
    },
    {
      "cell_type": "markdown",
      "metadata": {
        "id": "8VguHoUySTOd",
        "colab_type": "text"
      },
      "source": [
        "Evaluate pretrained"
      ]
    },
    {
      "cell_type": "code",
      "metadata": {
        "id": "ImPzjmtGSHQC",
        "colab_type": "code",
        "colab": {
          "base_uri": "https://localhost:8080/",
          "height": 425
        },
        "outputId": "3e9028ba-f752-4f58-d140-faec6d490f6e"
      },
      "source": [
        "pre = LeNet.init(numChannels=image_channels, imgRows=image_height, imgCols=image_width, numClasses=num_classes, weightsPath='/content/LeNetMNIST.temp.hdf5')\n",
        "pre.compile(optimizer=tf.keras.optimizers.SGD(lr=0.01), loss=\"sparse_categorical_crossentropy\", metrics=[\"accuracy\"])\n",
        "pre.summary()"
      ],
      "execution_count": 24,
      "outputs": [
        {
          "output_type": "stream",
          "text": [
            "Model: \"sequential_1\"\n",
            "_________________________________________________________________\n",
            "Layer (type)                 Output Shape              Param #   \n",
            "=================================================================\n",
            "conv2d_2 (Conv2D)            (None, 28, 28, 6)         156       \n",
            "_________________________________________________________________\n",
            "average_pooling2d_2 (Average (None, 14, 14, 6)         0         \n",
            "_________________________________________________________________\n",
            "conv2d_3 (Conv2D)            (None, 10, 10, 16)        2416      \n",
            "_________________________________________________________________\n",
            "average_pooling2d_3 (Average (None, 5, 5, 16)          0         \n",
            "_________________________________________________________________\n",
            "flatten_1 (Flatten)          (None, 400)               0         \n",
            "_________________________________________________________________\n",
            "dense_3 (Dense)              (None, 120)               48120     \n",
            "_________________________________________________________________\n",
            "dense_4 (Dense)              (None, 84)                10164     \n",
            "_________________________________________________________________\n",
            "dense_5 (Dense)              (None, 10)                850       \n",
            "=================================================================\n",
            "Total params: 61,706\n",
            "Trainable params: 61,706\n",
            "Non-trainable params: 0\n",
            "_________________________________________________________________\n"
          ],
          "name": "stdout"
        }
      ]
    },
    {
      "cell_type": "code",
      "metadata": {
        "id": "LrQ47eLkSmEV",
        "colab_type": "code",
        "colab": {
          "base_uri": "https://localhost:8080/",
          "height": 51
        },
        "outputId": "06b05d2a-c00a-465e-f2f7-3770fb8f3ceb"
      },
      "source": [
        "(loss , accuracy) = pre.evaluate(testdata, testlabels, batch_size=batch_size, verbose=1)\n",
        "print(f\"Accuracy : {accuracy}\")"
      ],
      "execution_count": 25,
      "outputs": [
        {
          "output_type": "stream",
          "text": [
            "79/79 [==============================] - 0s 4ms/step - loss: 0.0421 - accuracy: 0.9864\n",
            "Accuracy : 0.9864000082015991\n"
          ],
          "name": "stdout"
        }
      ]
    },
    {
      "cell_type": "markdown",
      "metadata": {
        "id": "hlZ_3MInUqVp",
        "colab_type": "text"
      },
      "source": [
        "Fashion MNIST"
      ]
    },
    {
      "cell_type": "code",
      "metadata": {
        "id": "faVTt-htUpbe",
        "colab_type": "code",
        "colab": {}
      },
      "source": [
        "(traindata, trainlabels),(testdata, testlabels) = tf.keras.datasets.fashion_mnist.load_data()"
      ],
      "execution_count": 0,
      "outputs": []
    },
    {
      "cell_type": "code",
      "metadata": {
        "id": "BcRUClxYSsBX",
        "colab_type": "code",
        "colab": {}
      },
      "source": [
        "classnames = [\"T-shirt/top\",\"Trouser/pants\",\"Pullover shirt\",\"Dress\",\"Coat\",\"Sandal\",\"Shirt\",\"Sneaker\"]"
      ],
      "execution_count": 0,
      "outputs": []
    },
    {
      "cell_type": "code",
      "metadata": {
        "id": "8eqZEAmNVMit",
        "colab_type": "code",
        "colab": {
          "base_uri": "https://localhost:8080/",
          "height": 85
        },
        "outputId": "14120bfb-1f06-4b02-a86f-a02de0b44fb1"
      },
      "source": [
        "num_classes=10\n",
        "image_height= 28\n",
        "image_width = 28\n",
        "image_channels = 1\n",
        "traindata=traindata.reshape((traindata.shape[0],image_height,image_width,image_channels) )\n",
        "testdata=testdata.reshape((testdata.shape[0],image_height,image_width,image_channels) )\n",
        "traindata = traindata.astype(\"float32\")/255.0\n",
        "testdata = testdata.astype(\"float32\")/255.0\n",
        "traindata = np.pad(traindata,((0,0),(2,2),(2,2),(0,0)), 'constant')\n",
        "testdata = np.pad(testdata,((0,0),(2,2),(2,2),(0,0)), 'constant')\n",
        "num_classes=10\n",
        "image_height= 32\n",
        "image_width = 32\n",
        "image_channels = 1\n",
        "print(traindata.shape)\n",
        "print(trainlabels.shape)\n",
        "print(testdata.shape)\n",
        "print(testlabels.shape)"
      ],
      "execution_count": 43,
      "outputs": [
        {
          "output_type": "stream",
          "text": [
            "(60000, 32, 32, 1)\n",
            "(60000,)\n",
            "(10000, 32, 32, 1)\n",
            "(10000,)\n"
          ],
          "name": "stdout"
        }
      ]
    },
    {
      "cell_type": "code",
      "metadata": {
        "id": "_LDL4goSVbye",
        "colab_type": "code",
        "colab": {
          "base_uri": "https://localhost:8080/",
          "height": 425
        },
        "outputId": "22e9395d-29b3-4b5a-9eb5-d2be91a5f972"
      },
      "source": [
        "fmodel = LeNet.init(numChannels=image_channels, imgRows=image_height, imgCols=image_width, numClasses=num_classes)\n",
        "fmodel.compile(optimizer=tf.keras.optimizers.SGD(lr=0.01), loss=\"sparse_categorical_crossentropy\", metrics=[\"accuracy\"])\n",
        "fmodel.summary()"
      ],
      "execution_count": 44,
      "outputs": [
        {
          "output_type": "stream",
          "text": [
            "Model: \"sequential_4\"\n",
            "_________________________________________________________________\n",
            "Layer (type)                 Output Shape              Param #   \n",
            "=================================================================\n",
            "conv2d_8 (Conv2D)            (None, 28, 28, 6)         156       \n",
            "_________________________________________________________________\n",
            "average_pooling2d_8 (Average (None, 14, 14, 6)         0         \n",
            "_________________________________________________________________\n",
            "conv2d_9 (Conv2D)            (None, 10, 10, 16)        2416      \n",
            "_________________________________________________________________\n",
            "average_pooling2d_9 (Average (None, 5, 5, 16)          0         \n",
            "_________________________________________________________________\n",
            "flatten_4 (Flatten)          (None, 400)               0         \n",
            "_________________________________________________________________\n",
            "dense_12 (Dense)             (None, 120)               48120     \n",
            "_________________________________________________________________\n",
            "dense_13 (Dense)             (None, 84)                10164     \n",
            "_________________________________________________________________\n",
            "dense_14 (Dense)             (None, 10)                850       \n",
            "=================================================================\n",
            "Total params: 61,706\n",
            "Trainable params: 61,706\n",
            "Non-trainable params: 0\n",
            "_________________________________________________________________\n"
          ],
          "name": "stdout"
        }
      ]
    },
    {
      "cell_type": "code",
      "metadata": {
        "id": "2QqYartmVlY4",
        "colab_type": "code",
        "colab": {
          "base_uri": "https://localhost:8080/",
          "height": 1000
        },
        "outputId": "3f2fc5f1-9403-402f-b2a8-e46d56c24c36"
      },
      "source": [
        "batch_size = 128\n",
        "epochs = 100\n",
        "fhistory = fmodel.fit(x=traindata, y = trainlabels, validation_data=(testdata, testlabels), batch_size=batch_size, epochs=epochs, verbose=1, callbacks=[myCallback()])"
      ],
      "execution_count": 45,
      "outputs": [
        {
          "output_type": "stream",
          "text": [
            "Epoch 1/100\n",
            "469/469 [==============================] - 3s 6ms/step - loss: 1.2341 - accuracy: 0.6110 - val_loss: 0.8318 - val_accuracy: 0.7201\n",
            "Epoch 2/100\n",
            "469/469 [==============================] - 3s 6ms/step - loss: 0.7238 - accuracy: 0.7445 - val_loss: 0.6825 - val_accuracy: 0.7523\n",
            "Epoch 3/100\n",
            "469/469 [==============================] - 3s 6ms/step - loss: 0.6273 - accuracy: 0.7724 - val_loss: 0.6253 - val_accuracy: 0.7687\n",
            "Epoch 4/100\n",
            "469/469 [==============================] - 3s 6ms/step - loss: 0.5780 - accuracy: 0.7918 - val_loss: 0.5862 - val_accuracy: 0.7861\n",
            "Epoch 5/100\n",
            "469/469 [==============================] - 3s 6ms/step - loss: 0.5453 - accuracy: 0.8054 - val_loss: 0.5569 - val_accuracy: 0.7996\n",
            "Epoch 6/100\n",
            "469/469 [==============================] - 3s 6ms/step - loss: 0.5209 - accuracy: 0.8156 - val_loss: 0.5396 - val_accuracy: 0.8029\n",
            "Epoch 7/100\n",
            "469/469 [==============================] - 3s 6ms/step - loss: 0.4998 - accuracy: 0.8239 - val_loss: 0.5174 - val_accuracy: 0.8112\n",
            "Epoch 8/100\n",
            "469/469 [==============================] - 3s 6ms/step - loss: 0.4828 - accuracy: 0.8306 - val_loss: 0.5021 - val_accuracy: 0.8210\n",
            "Epoch 9/100\n",
            "469/469 [==============================] - 3s 6ms/step - loss: 0.4684 - accuracy: 0.8354 - val_loss: 0.4891 - val_accuracy: 0.8272\n",
            "Epoch 10/100\n",
            "469/469 [==============================] - 3s 6ms/step - loss: 0.4562 - accuracy: 0.8392 - val_loss: 0.4800 - val_accuracy: 0.8264\n",
            "Epoch 11/100\n",
            "469/469 [==============================] - 3s 6ms/step - loss: 0.4453 - accuracy: 0.8433 - val_loss: 0.4744 - val_accuracy: 0.8258\n",
            "Epoch 12/100\n",
            "469/469 [==============================] - 3s 6ms/step - loss: 0.4361 - accuracy: 0.8461 - val_loss: 0.4606 - val_accuracy: 0.8357\n",
            "Epoch 13/100\n",
            "469/469 [==============================] - 3s 6ms/step - loss: 0.4276 - accuracy: 0.8493 - val_loss: 0.4549 - val_accuracy: 0.8379\n",
            "Epoch 14/100\n",
            "469/469 [==============================] - 3s 6ms/step - loss: 0.4200 - accuracy: 0.8513 - val_loss: 0.4545 - val_accuracy: 0.8386\n",
            "Epoch 15/100\n",
            "469/469 [==============================] - 3s 6ms/step - loss: 0.4130 - accuracy: 0.8538 - val_loss: 0.4394 - val_accuracy: 0.8438\n",
            "Epoch 16/100\n",
            "469/469 [==============================] - 3s 6ms/step - loss: 0.4059 - accuracy: 0.8566 - val_loss: 0.4371 - val_accuracy: 0.8426\n",
            "Epoch 17/100\n",
            "469/469 [==============================] - 3s 6ms/step - loss: 0.4004 - accuracy: 0.8581 - val_loss: 0.4296 - val_accuracy: 0.8448\n",
            "Epoch 18/100\n",
            "469/469 [==============================] - 3s 6ms/step - loss: 0.3947 - accuracy: 0.8609 - val_loss: 0.4252 - val_accuracy: 0.8474\n",
            "Epoch 19/100\n",
            "469/469 [==============================] - 3s 6ms/step - loss: 0.3898 - accuracy: 0.8621 - val_loss: 0.4202 - val_accuracy: 0.8529\n",
            "Epoch 20/100\n",
            "469/469 [==============================] - 3s 6ms/step - loss: 0.3851 - accuracy: 0.8640 - val_loss: 0.4164 - val_accuracy: 0.8516\n",
            "Epoch 21/100\n",
            "469/469 [==============================] - 3s 6ms/step - loss: 0.3807 - accuracy: 0.8648 - val_loss: 0.4134 - val_accuracy: 0.8530\n",
            "Epoch 22/100\n",
            "469/469 [==============================] - 3s 6ms/step - loss: 0.3762 - accuracy: 0.8665 - val_loss: 0.4132 - val_accuracy: 0.8537\n",
            "Epoch 23/100\n",
            "469/469 [==============================] - 3s 6ms/step - loss: 0.3725 - accuracy: 0.8669 - val_loss: 0.4073 - val_accuracy: 0.8545\n",
            "Epoch 24/100\n",
            "469/469 [==============================] - 3s 6ms/step - loss: 0.3685 - accuracy: 0.8686 - val_loss: 0.4036 - val_accuracy: 0.8561\n",
            "Epoch 25/100\n",
            "469/469 [==============================] - 3s 6ms/step - loss: 0.3645 - accuracy: 0.8703 - val_loss: 0.3981 - val_accuracy: 0.8584\n",
            "Epoch 26/100\n",
            "469/469 [==============================] - 3s 6ms/step - loss: 0.3612 - accuracy: 0.8709 - val_loss: 0.3951 - val_accuracy: 0.8603\n",
            "Epoch 27/100\n",
            "469/469 [==============================] - 3s 6ms/step - loss: 0.3578 - accuracy: 0.8725 - val_loss: 0.3936 - val_accuracy: 0.8602\n",
            "Epoch 28/100\n",
            "469/469 [==============================] - 3s 6ms/step - loss: 0.3550 - accuracy: 0.8738 - val_loss: 0.3886 - val_accuracy: 0.8618\n",
            "Epoch 29/100\n",
            "469/469 [==============================] - 3s 6ms/step - loss: 0.3518 - accuracy: 0.8741 - val_loss: 0.3896 - val_accuracy: 0.8603\n",
            "Epoch 30/100\n",
            "469/469 [==============================] - 3s 6ms/step - loss: 0.3484 - accuracy: 0.8753 - val_loss: 0.3835 - val_accuracy: 0.8627\n",
            "Epoch 31/100\n",
            "469/469 [==============================] - 3s 6ms/step - loss: 0.3458 - accuracy: 0.8762 - val_loss: 0.3880 - val_accuracy: 0.8614\n",
            "Epoch 32/100\n",
            "469/469 [==============================] - 3s 6ms/step - loss: 0.3434 - accuracy: 0.8773 - val_loss: 0.3771 - val_accuracy: 0.8658\n",
            "Epoch 33/100\n",
            "469/469 [==============================] - 3s 6ms/step - loss: 0.3403 - accuracy: 0.8786 - val_loss: 0.3761 - val_accuracy: 0.8650\n",
            "Epoch 34/100\n",
            "469/469 [==============================] - 3s 6ms/step - loss: 0.3376 - accuracy: 0.8796 - val_loss: 0.3742 - val_accuracy: 0.8654\n",
            "Epoch 35/100\n",
            "469/469 [==============================] - 3s 6ms/step - loss: 0.3348 - accuracy: 0.8804 - val_loss: 0.3743 - val_accuracy: 0.8654\n",
            "Epoch 36/100\n",
            "469/469 [==============================] - 3s 6ms/step - loss: 0.3322 - accuracy: 0.8813 - val_loss: 0.3740 - val_accuracy: 0.8645\n",
            "Epoch 37/100\n",
            "469/469 [==============================] - 3s 7ms/step - loss: 0.3301 - accuracy: 0.8819 - val_loss: 0.3700 - val_accuracy: 0.8672\n",
            "Epoch 38/100\n",
            "469/469 [==============================] - 3s 7ms/step - loss: 0.3274 - accuracy: 0.8835 - val_loss: 0.3654 - val_accuracy: 0.8689\n",
            "Epoch 39/100\n",
            "469/469 [==============================] - 3s 6ms/step - loss: 0.3253 - accuracy: 0.8841 - val_loss: 0.3667 - val_accuracy: 0.8692\n",
            "Epoch 40/100\n",
            "469/469 [==============================] - 3s 6ms/step - loss: 0.3232 - accuracy: 0.8837 - val_loss: 0.3634 - val_accuracy: 0.8706\n",
            "Epoch 41/100\n",
            "469/469 [==============================] - 3s 6ms/step - loss: 0.3208 - accuracy: 0.8848 - val_loss: 0.3642 - val_accuracy: 0.8681\n",
            "Epoch 42/100\n",
            "469/469 [==============================] - 3s 6ms/step - loss: 0.3191 - accuracy: 0.8854 - val_loss: 0.3572 - val_accuracy: 0.8718\n",
            "Epoch 43/100\n",
            "469/469 [==============================] - 3s 6ms/step - loss: 0.3166 - accuracy: 0.8873 - val_loss: 0.3601 - val_accuracy: 0.8676\n",
            "Epoch 44/100\n",
            "469/469 [==============================] - 3s 7ms/step - loss: 0.3145 - accuracy: 0.8875 - val_loss: 0.3609 - val_accuracy: 0.8734\n",
            "Epoch 45/100\n",
            "469/469 [==============================] - 3s 7ms/step - loss: 0.3126 - accuracy: 0.8879 - val_loss: 0.3546 - val_accuracy: 0.8748\n",
            "Epoch 46/100\n",
            "469/469 [==============================] - 3s 7ms/step - loss: 0.3105 - accuracy: 0.8886 - val_loss: 0.3515 - val_accuracy: 0.8757\n",
            "Epoch 47/100\n",
            "469/469 [==============================] - 3s 6ms/step - loss: 0.3082 - accuracy: 0.8892 - val_loss: 0.3487 - val_accuracy: 0.8743\n",
            "Epoch 48/100\n",
            "469/469 [==============================] - 3s 6ms/step - loss: 0.3069 - accuracy: 0.8898 - val_loss: 0.3503 - val_accuracy: 0.8740\n",
            "Epoch 49/100\n",
            "469/469 [==============================] - 3s 6ms/step - loss: 0.3051 - accuracy: 0.8907 - val_loss: 0.3469 - val_accuracy: 0.8768\n",
            "Epoch 50/100\n",
            "469/469 [==============================] - 3s 6ms/step - loss: 0.3032 - accuracy: 0.8913 - val_loss: 0.3475 - val_accuracy: 0.8756\n",
            "Epoch 51/100\n",
            "469/469 [==============================] - 3s 6ms/step - loss: 0.3009 - accuracy: 0.8924 - val_loss: 0.3488 - val_accuracy: 0.8765\n",
            "Epoch 52/100\n",
            "469/469 [==============================] - 3s 6ms/step - loss: 0.3001 - accuracy: 0.8912 - val_loss: 0.3405 - val_accuracy: 0.8797\n",
            "Epoch 53/100\n",
            "469/469 [==============================] - 3s 6ms/step - loss: 0.2982 - accuracy: 0.8929 - val_loss: 0.3422 - val_accuracy: 0.8781\n",
            "Epoch 54/100\n",
            "469/469 [==============================] - 3s 6ms/step - loss: 0.2960 - accuracy: 0.8928 - val_loss: 0.3420 - val_accuracy: 0.8794\n",
            "Epoch 55/100\n",
            "469/469 [==============================] - 3s 6ms/step - loss: 0.2948 - accuracy: 0.8939 - val_loss: 0.3379 - val_accuracy: 0.8776\n",
            "Epoch 56/100\n",
            "469/469 [==============================] - 3s 6ms/step - loss: 0.2934 - accuracy: 0.8945 - val_loss: 0.3403 - val_accuracy: 0.8776\n",
            "Epoch 57/100\n",
            "469/469 [==============================] - 3s 6ms/step - loss: 0.2916 - accuracy: 0.8950 - val_loss: 0.3336 - val_accuracy: 0.8821\n",
            "Epoch 58/100\n",
            "469/469 [==============================] - 3s 6ms/step - loss: 0.2901 - accuracy: 0.8954 - val_loss: 0.3359 - val_accuracy: 0.8811\n",
            "Epoch 59/100\n",
            "469/469 [==============================] - 3s 6ms/step - loss: 0.2883 - accuracy: 0.8960 - val_loss: 0.3362 - val_accuracy: 0.8794\n",
            "Epoch 60/100\n",
            "469/469 [==============================] - 3s 6ms/step - loss: 0.2870 - accuracy: 0.8967 - val_loss: 0.3332 - val_accuracy: 0.8794\n",
            "Epoch 61/100\n",
            "469/469 [==============================] - 3s 6ms/step - loss: 0.2858 - accuracy: 0.8972 - val_loss: 0.3314 - val_accuracy: 0.8817\n",
            "Epoch 62/100\n",
            "469/469 [==============================] - 3s 6ms/step - loss: 0.2840 - accuracy: 0.8978 - val_loss: 0.3317 - val_accuracy: 0.8818\n",
            "Epoch 63/100\n",
            "469/469 [==============================] - 3s 6ms/step - loss: 0.2828 - accuracy: 0.8982 - val_loss: 0.3361 - val_accuracy: 0.8782\n",
            "Epoch 64/100\n",
            "469/469 [==============================] - 3s 6ms/step - loss: 0.2810 - accuracy: 0.8985 - val_loss: 0.3264 - val_accuracy: 0.8839\n",
            "Epoch 65/100\n",
            "469/469 [==============================] - 3s 6ms/step - loss: 0.2795 - accuracy: 0.8994 - val_loss: 0.3263 - val_accuracy: 0.8828\n",
            "Epoch 66/100\n",
            "469/469 [==============================] - 3s 6ms/step - loss: 0.2785 - accuracy: 0.9004 - val_loss: 0.3272 - val_accuracy: 0.8831\n",
            "Epoch 67/100\n",
            "469/469 [==============================] - 3s 6ms/step - loss: 0.2775 - accuracy: 0.9003 - val_loss: 0.3300 - val_accuracy: 0.8802\n",
            "Epoch 68/100\n",
            "469/469 [==============================] - 3s 6ms/step - loss: 0.2758 - accuracy: 0.9000 - val_loss: 0.3258 - val_accuracy: 0.8811\n",
            "Epoch 69/100\n",
            "469/469 [==============================] - 3s 6ms/step - loss: 0.2747 - accuracy: 0.9019 - val_loss: 0.3261 - val_accuracy: 0.8812\n",
            "Epoch 70/100\n",
            "469/469 [==============================] - 3s 6ms/step - loss: 0.2735 - accuracy: 0.9017 - val_loss: 0.3215 - val_accuracy: 0.8855\n",
            "Epoch 71/100\n",
            "469/469 [==============================] - 3s 6ms/step - loss: 0.2720 - accuracy: 0.9014 - val_loss: 0.3195 - val_accuracy: 0.8852\n",
            "Epoch 72/100\n",
            "469/469 [==============================] - 3s 6ms/step - loss: 0.2704 - accuracy: 0.9020 - val_loss: 0.3228 - val_accuracy: 0.8840\n",
            "Epoch 73/100\n",
            "469/469 [==============================] - 3s 6ms/step - loss: 0.2693 - accuracy: 0.9029 - val_loss: 0.3183 - val_accuracy: 0.8863\n",
            "Epoch 74/100\n",
            "469/469 [==============================] - 3s 6ms/step - loss: 0.2681 - accuracy: 0.9027 - val_loss: 0.3184 - val_accuracy: 0.8856\n",
            "Epoch 75/100\n",
            "469/469 [==============================] - 3s 6ms/step - loss: 0.2673 - accuracy: 0.9034 - val_loss: 0.3218 - val_accuracy: 0.8831\n",
            "Epoch 76/100\n",
            "469/469 [==============================] - 3s 6ms/step - loss: 0.2657 - accuracy: 0.9039 - val_loss: 0.3146 - val_accuracy: 0.8857\n",
            "Epoch 77/100\n",
            "469/469 [==============================] - 3s 6ms/step - loss: 0.2650 - accuracy: 0.9043 - val_loss: 0.3148 - val_accuracy: 0.8876\n",
            "Epoch 78/100\n",
            "469/469 [==============================] - 3s 6ms/step - loss: 0.2636 - accuracy: 0.9045 - val_loss: 0.3210 - val_accuracy: 0.8839\n",
            "Epoch 79/100\n",
            "469/469 [==============================] - 3s 6ms/step - loss: 0.2622 - accuracy: 0.9055 - val_loss: 0.3187 - val_accuracy: 0.8849\n",
            "Epoch 80/100\n",
            "469/469 [==============================] - 3s 6ms/step - loss: 0.2614 - accuracy: 0.9060 - val_loss: 0.3133 - val_accuracy: 0.8862\n",
            "Epoch 81/100\n",
            "469/469 [==============================] - 3s 6ms/step - loss: 0.2604 - accuracy: 0.9056 - val_loss: 0.3123 - val_accuracy: 0.8871\n",
            "Epoch 82/100\n",
            "469/469 [==============================] - 3s 6ms/step - loss: 0.2590 - accuracy: 0.9062 - val_loss: 0.3123 - val_accuracy: 0.8860\n",
            "Epoch 83/100\n",
            "469/469 [==============================] - 3s 6ms/step - loss: 0.2580 - accuracy: 0.9078 - val_loss: 0.3126 - val_accuracy: 0.8898\n",
            "Epoch 84/100\n",
            "469/469 [==============================] - 3s 6ms/step - loss: 0.2565 - accuracy: 0.9076 - val_loss: 0.3131 - val_accuracy: 0.8874\n",
            "Epoch 85/100\n",
            "469/469 [==============================] - 3s 6ms/step - loss: 0.2561 - accuracy: 0.9076 - val_loss: 0.3119 - val_accuracy: 0.8889\n",
            "Epoch 86/100\n",
            "469/469 [==============================] - 3s 6ms/step - loss: 0.2547 - accuracy: 0.9085 - val_loss: 0.3098 - val_accuracy: 0.8881\n",
            "Epoch 87/100\n",
            "469/469 [==============================] - 3s 6ms/step - loss: 0.2535 - accuracy: 0.9087 - val_loss: 0.3095 - val_accuracy: 0.8860\n",
            "Epoch 88/100\n",
            "469/469 [==============================] - 3s 6ms/step - loss: 0.2524 - accuracy: 0.9091 - val_loss: 0.3086 - val_accuracy: 0.8897\n",
            "Epoch 89/100\n",
            "469/469 [==============================] - 3s 6ms/step - loss: 0.2515 - accuracy: 0.9091 - val_loss: 0.3095 - val_accuracy: 0.8888\n",
            "Epoch 90/100\n",
            "469/469 [==============================] - 3s 6ms/step - loss: 0.2508 - accuracy: 0.9098 - val_loss: 0.3098 - val_accuracy: 0.8885\n",
            "Epoch 91/100\n",
            "469/469 [==============================] - 3s 6ms/step - loss: 0.2494 - accuracy: 0.9112 - val_loss: 0.3041 - val_accuracy: 0.8913\n",
            "Epoch 92/100\n",
            "469/469 [==============================] - 3s 6ms/step - loss: 0.2485 - accuracy: 0.9104 - val_loss: 0.3061 - val_accuracy: 0.8903\n",
            "Epoch 93/100\n",
            "469/469 [==============================] - 3s 6ms/step - loss: 0.2473 - accuracy: 0.9107 - val_loss: 0.3060 - val_accuracy: 0.8895\n",
            "Epoch 94/100\n",
            "469/469 [==============================] - 3s 6ms/step - loss: 0.2465 - accuracy: 0.9120 - val_loss: 0.3046 - val_accuracy: 0.8908\n",
            "Epoch 95/100\n",
            "469/469 [==============================] - 3s 6ms/step - loss: 0.2454 - accuracy: 0.9111 - val_loss: 0.3115 - val_accuracy: 0.8878\n",
            "Epoch 96/100\n",
            "469/469 [==============================] - 3s 6ms/step - loss: 0.2445 - accuracy: 0.9115 - val_loss: 0.3022 - val_accuracy: 0.8920\n",
            "Epoch 97/100\n",
            "469/469 [==============================] - 3s 6ms/step - loss: 0.2440 - accuracy: 0.9123 - val_loss: 0.3052 - val_accuracy: 0.8889\n",
            "Epoch 98/100\n",
            "469/469 [==============================] - 3s 6ms/step - loss: 0.2427 - accuracy: 0.9127 - val_loss: 0.3016 - val_accuracy: 0.8912\n",
            "Epoch 99/100\n",
            "469/469 [==============================] - 3s 6ms/step - loss: 0.2417 - accuracy: 0.9123 - val_loss: 0.3067 - val_accuracy: 0.8899\n",
            "Epoch 100/100\n",
            "469/469 [==============================] - 3s 6ms/step - loss: 0.2408 - accuracy: 0.9122 - val_loss: 0.3012 - val_accuracy: 0.8927\n"
          ],
          "name": "stdout"
        }
      ]
    },
    {
      "cell_type": "code",
      "metadata": {
        "id": "Wi9atkiIVyyG",
        "colab_type": "code",
        "colab": {
          "base_uri": "https://localhost:8080/",
          "height": 607
        },
        "outputId": "e6675dd7-ef31-4acc-de5e-b231704c63a5"
      },
      "source": [
        "acc = fhistory.history['accuracy']\n",
        "val_acc = fhistory.history['val_accuracy']\n",
        "loss = fhistory.history['loss']\n",
        "val_loss = fhistory.history['val_loss']\n",
        "\n",
        "epochs  = range(len(acc))\n",
        "\n",
        "plt.plot(epochs, acc, label = 'train accuracy')\n",
        "plt.plot(epochs, val_acc, label = 'validation accuracy')\n",
        "plt.xlabel('epochs')\n",
        "plt.ylabel('accuracy')\n",
        "plt.legend(loc=\"lower right\")\n",
        "plt.title('Training and validation accuracy')\n",
        "plt.figure()\n",
        "\n",
        "plt.plot(epochs, loss, label = 'train loss')\n",
        "plt.plot(epochs, val_loss, label = 'validation loss')\n",
        "plt.xlabel('epochs')\n",
        "plt.ylabel('loss')\n",
        "plt.legend(loc=\"lower right\")\n",
        "plt.title('Training and validation loss')\n",
        "plt.figure()"
      ],
      "execution_count": 46,
      "outputs": [
        {
          "output_type": "execute_result",
          "data": {
            "text/plain": [
              "<Figure size 432x288 with 0 Axes>"
            ]
          },
          "metadata": {
            "tags": []
          },
          "execution_count": 46
        },
        {
          "output_type": "display_data",
          "data": {
            "image/png": "[encoded data removed]",
            "text/plain": [
              "<Figure size 432x288 with 1 Axes>"
            ]
          },
          "metadata": {
            "tags": [],
            "needs_background": "light"
          }
        },
        {
          "output_type": "display_data",
          "data": {
            "image/png": "[encoded data removed]",
            "text/plain": [
              "<Figure size 432x288 with 1 Axes>"
            ]
          },
          "metadata": {
            "tags": [],
            "needs_background": "light"
          }
        },
        {
          "output_type": "display_data",
          "data": {
            "text/plain": [
              "<Figure size 432x288 with 0 Axes>"
            ]
          },
          "metadata": {
            "tags": []
          }
        }
      ]
    },
    {
      "cell_type": "code",
      "metadata": {
        "id": "-9SvRALgWJrf",
        "colab_type": "code",
        "colab": {}
      },
      "source": [
        ""
      ],
      "execution_count": 0,
      "outputs": []
    }
  ]
}